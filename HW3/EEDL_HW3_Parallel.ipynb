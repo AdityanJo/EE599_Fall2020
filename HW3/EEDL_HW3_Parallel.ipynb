{
 "cells": [
  {
   "cell_type": "code",
   "execution_count": 1,
   "metadata": {
    "id": "5jCs4659REyL"
   },
   "outputs": [],
   "source": [
    "import numpy as np\n",
    "import matplotlib.pyplot as plt\n",
    "import h5py \n",
    "from tqdm import tqdm\n",
    "\n",
    "class Linear():\n",
    "    def __init__(self, in_features, out_features, act=None, act_bkwd=None):\n",
    "      self.W=np.random.randn(in_features,out_features)*np.sqrt(2/out_features)\n",
    "      self.b=np.zeros(out_features)\n",
    "      self.activation=act\n",
    "      self.activation_bkwd=act_bkwd\n",
    "    \n",
    "    def __call__(self, x, *args, **kwargs):\n",
    "        return x@self.W+self.b\n",
    "\n",
    "class NumpyMLP():\n",
    "  def __init__(self, train_file, test_file, activation='relu'):\n",
    "    #PART a\n",
    "    self.data={}\n",
    "    self.act=activation\n",
    "    with h5py.File(train_file, 'r') as hf:\n",
    "        self.data['x_train']=hf['xdata'][:]\n",
    "        self.data['x_valid']=self.data['x_train'][50000:]\n",
    "        self.data['x_train']=self.data['x_train'][:50000]\n",
    "        self.data['y_train']=hf['ydata'][:]\n",
    "        self.data['y_valid']=self.data['y_train'][50000:]\n",
    "        self.data['y_train']=self.data['y_train'][:50000]\n",
    "    with h5py.File(test_file,'r') as hf:\n",
    "        self.data['x_test']=hf['xdata'][:]\n",
    "        self.data['y_test']=hf['ydata'][:]\n",
    "    print('Train set shapes:', self.data['x_train'].shape,self.data['y_train'].shape)\n",
    "    print('Valid set shapes:', self.data['x_valid'].shape, self.data['y_valid'].shape)\n",
    "    print('Test set shapes:',self.data['x_test'].shape, self.data['y_test'].shape)\n",
    "    \n",
    "    #PART b & c \n",
    "    if activation=='relu':\n",
    "      self.linear1=Linear(in_features=784, out_features=512, act=self.relu, act_bkwd=self.relu_backward)\n",
    "      self.linear2=Linear(in_features=512,out_features=64, act=self.relu, act_bkwd=self.relu_backward)\n",
    "      self.linear3=Linear(in_features=64, out_features=32, act=self.relu, act_bkwd=self.relu_backward)\n",
    "      self.linear4=Linear(in_features=32, out_features=10)\n",
    "    else:\n",
    "      self.linear1=Linear(in_features=784, out_features=512, act=self.tanh, act_bkwd=self.tanh_backward)\n",
    "      self.linear2=Linear(in_features=512,out_features=64, act=self.tanh, act_bkwd=self.tanh_backward)\n",
    "      self.linear3=Linear(in_features=64, out_features=32, act=self.tanh, act_bkwd=self.tanh_backward)\n",
    "      self.linear4=Linear(in_features=32, out_features=10)\n",
    "  \n",
    "  def relu(self, x):\n",
    "    return np.clip(x,a_min=0,a_max=None)\n",
    "\n",
    "  def relu_backward(self,x):\n",
    "    x[x<=0]=0\n",
    "    x[x>0]=1\n",
    "    return x\n",
    "\n",
    "  def tanh(self,x):\n",
    "    return np.tanh(x)\n",
    "\n",
    "  def tanh_backward(self, x):\n",
    "    out = [1-np.tanh(sample)**2 for sample in x]\n",
    "    return np.array(out)\n",
    "\n",
    "  def softmax(self, x):\n",
    "    out=[np.exp(sample)/np.sum(np.exp(sample)) for sample in x]\n",
    "    return np.array(out)\n",
    "\n",
    "  def save_weights(self, model_path):\n",
    "    with h5py.File(model_path, 'w') as hf:\n",
    "      hf.create_dataset('linear_1.weight', data=self.linear1.W)\n",
    "      hf.create_dataset('linear_1.bias', data=self.linear1.b)\n",
    "      hf.create_dataset('linear_2.weight', data=self.linear2.W)\n",
    "      hf.create_dataset('linear_2.bias', data=self.linear2.b)\n",
    "      hf.create_dataset('linear_3.weight', data=self.linear3.W)\n",
    "      hf.create_dataset('linear_3.bias', data=self.linear3.b)\n",
    "      hf.create_dataset('linear_4.weight', data=self.linear4.W)\n",
    "      hf.create_dataset('linear_4.bias', data=self.linear4.b)\n",
    "      hf.create_dataset('activation',data=self.act)\n",
    "\n",
    "  def load_weights(self,model_path):\n",
    "    with h5py.File(model_path,'r') as hf:\n",
    "      self.linear1.W=hf['linear_1.weight'][:]\n",
    "      self.linear1.b=hf['linear_1.bias'][:]\n",
    "      self.linear2.W=hf['linear_2.weight'][:]\n",
    "      self.linear2.b=hf['linear_2.bias'][:]\n",
    "      self.linear3.W=hf['linear_3.weight'][:]\n",
    "      self.linear3.b=hf['linear_3.bias'][:]\n",
    "      self.linear4.W=hf['linear_4.weight'][:]\n",
    "      self.linear4.b=hf['linear_4.bias'][:]\n",
    "      if hf['activation']=='relu':\n",
    "        self.linear1.activation, self.linear1.activation_bkwd=self.relu, self.relu_backward\n",
    "        self.linear2.activation, self.linear2.activation_bkwd=self.relu, self.relu_backward\n",
    "        self.linear3.activation, self.linear3.activation_bkwd=self.relu, self.relu_backward\n",
    "        self.linear4.activation, self.linear4.activation_bkwd=self.relu, self.relu_backward\n",
    "      else:\n",
    "        self.linear1.activation, self.linear1.activation_bkwd=self.tanh, self.tanh_backward\n",
    "        self.linear2.activation, self.linear2.activation_bkwd=self.tanh, self.tanh_backward\n",
    "        self.linear3.activation, self.linear3.activation_bkwd=self.tanh, self.tanh_backward\n",
    "        self.linear4.activation, self.linear4.activation_bkwd=self.tanh, self.tanh_backward\n",
    "         \n",
    "  def train(self, epochs, batch_size=50, lr=1e-3, save_path='model.hdf5'):\n",
    "    losses=[]\n",
    "    train_losses=[]\n",
    "    valid_losses=[]\n",
    "    train_accuracy=[]\n",
    "    valid_accuracy=[]\n",
    "    steps=[]\n",
    "    best_val_acc=0.0\n",
    "    for i in tqdm(range(epochs)):\n",
    "      if i == int(epochs*0.5):\n",
    "        lr=lr/2\n",
    "      if i == int(epochs*0.78):\n",
    "        lr=lr/2\n",
    "      steps.append(lr)\n",
    "      running_loss=0.0\n",
    "      count=0\n",
    "      for j in range(0, self.data['x_train'].shape[0], batch_size):\n",
    "        x_batch=self.data['x_train'][j:j+batch_size]\n",
    "        x_batch=x_batch/255.\n",
    "        noise=np.random.normal(0,0.05,x_batch.shape)\n",
    "        x_batch=x_batch+noise\n",
    "        y_batch=self.data['y_train'][j:j+batch_size]\n",
    "        \n",
    "        h_1=self.linear1(x_batch)\n",
    "        a_1=self.linear1.activation(h_1)\n",
    "        noise=np.random.normal(0,0.05,a_1.shape)\n",
    "        a_1+=noise\n",
    "        h_2=self.linear2(a_1)\n",
    "        a_2=self.linear2.activation(h_2)\n",
    "        noise=np.random.normal(0,0.05,a_2.shape)\n",
    "        a_2+=noise\n",
    "        h_3=self.linear3(a_2)\n",
    "        a_3=self.linear3.activation(h_3)\n",
    "        noise=np.random.normal(0,0.05,a_3.shape)\n",
    "        # a_3+=noise\n",
    "        h_4=self.linear4(a_3)\n",
    "        a_4=self.softmax(h_4)\n",
    "\n",
    "        loss=-np.sum(y_batch*np.log(a_4))/y_batch.shape[0]\n",
    "        running_loss+=loss\n",
    "        count+=batch_size\n",
    "        \n",
    "        delta_L = (a_4-y_batch)/x_batch.shape[0]\n",
    "        da_3 = self.linear3.activation_bkwd(h_3)\n",
    "        da_2 = self.linear2.activation_bkwd(h_2)\n",
    "        da_1 = self.linear1.activation_bkwd(h_1)\n",
    "        \n",
    "        delta_3 = np.multiply(da_3, delta_L@self.linear4.W.T)\n",
    "        delta_2 = np.multiply(da_2,delta_3@self.linear3.W.T)\n",
    "        delta_1 = np.multiply(da_1,delta_2@self.linear2.W.T)\n",
    "\n",
    "        # print(np.multiply(delta_L, a_3).shape)\n",
    "        # print(a_3.shape, y_batch.shape, delta_L.shape, a_3.shape, self.linear3.W.shape, a_2.shape, a_1.shape, delta_2.shape, self.linear2.W.shape)\n",
    "        self.linear4.W = self.linear4.W - lr* (a_3.T@delta_L)/x_batch.shape[0]\n",
    "        self.linear4.b = self.linear4.b - lr* np.average(delta_L, axis=0)\n",
    "\n",
    "        self.linear3.W = self.linear3.W - lr * (a_2.T@delta_3)/x_batch.shape[0]\n",
    "        self.linear3.b = self.linear3.b - lr * np.average(delta_3,axis=0)\n",
    "\n",
    "        self.linear2.W = self.linear2.W - lr * (a_1.T@delta_2)/x_batch.shape[0]\n",
    "        self.linear2.b = self.linear2.b - lr* np.average(delta_2,axis=0)\n",
    "\n",
    "        self.linear1.W = self.linear1.W - lr * (x_batch.T@delta_1)/x_batch.shape[0]\n",
    "        self.linear1.b = self.linear1.b - lr * np.average(delta_1,axis=0)\n",
    "                \n",
    "      losses.append(running_loss/count)\n",
    "      y_pred_train=self.softmax(self.linear4(self.linear3.activation(self.linear3(self.linear2.activation(self.linear2(self.linear1.activation(self.linear1(self.data['x_train']/255.))))))))\n",
    "      y_pred_logits=np.argmax(y_pred_train,axis=1)\n",
    "      y_gt_logits=np.argmax(self.data['y_train'],axis=1)\n",
    "      train_accuracy.append((y_pred_logits==y_gt_logits).sum()/y_gt_logits.shape[0])\n",
    "      train_losses.append(-np.sum(self.data['y_train']*np.log(y_pred_train))/y_pred_train.shape[0])\n",
    "      y_pred_valid=self.softmax(self.linear4(self.linear3.activation(self.linear3(self.linear2.activation(self.linear2(self.linear1.activation(self.linear1(self.data['x_valid']/255.))))))))      \n",
    "      y_pred_valid_logits=np.argmax(y_pred_valid,axis=1)\n",
    "      y_gt_valid_logits=np.argmax(self.data['y_valid'],axis=1)\n",
    "      valid_losses.append(-np.sum(self.data['y_valid']*np.log(y_pred_valid))/y_pred_valid.shape[0])\n",
    "      valid_accuracy.append((y_pred_valid_logits==y_gt_valid_logits).sum()/y_gt_valid_logits.shape[0])\n",
    "      if valid_accuracy[-1]>best_val_acc:\n",
    "        best_val_acc=valid_accuracy[-1]\n",
    "        self.save_weights(save_path)\n",
    "    return losses, train_losses, valid_losses, train_accuracy, valid_accuracy, steps\n",
    "\n"
   ]
  },
  {
   "cell_type": "code",
   "execution_count": 2,
   "metadata": {
    "colab": {
     "base_uri": "https://localhost:8080/",
     "height": 104
    },
    "id": "9jQO5Ue7RIW8",
    "outputId": "212a1890-c431-4461-ee90-3710a11596b3"
   },
   "outputs": [
    {
     "name": "stderr",
     "output_type": "stream",
     "text": [
      "\r",
      "  0%|          | 0/50 [00:00<?, ?it/s]"
     ]
    },
    {
     "name": "stdout",
     "output_type": "stream",
     "text": [
      "Train set shapes: (50000, 784) (50000, 10)\n",
      "Valid set shapes: (10000, 784) (10000, 10)\n",
      "Test set shapes: (10000, 784) (10000, 10)\n"
     ]
    },
    {
     "name": "stderr",
     "output_type": "stream",
     "text": [
      "100%|██████████| 50/50 [15:48<00:00, 18.98s/it]\n"
     ]
    },
    {
     "data": {
      "text/plain": [
       "0.9113"
      ]
     },
     "execution_count": 2,
     "metadata": {
      "tags": []
     },
     "output_type": "execute_result"
    }
   ],
   "source": [
    "mlp=NumpyMLP('mnist_traindata.hdf5','mnist_testdata.hdf5', activation='tanh')\n",
    "losses,train_losses, valid_losses, train_accuracy,valid_accuracy, lr_steps =mlp.train(epochs=50, lr=1e-2, save_path='model_tanh_1e-2.hdf5')\n",
    "model_tanh_lr1e2=[losses,train_losses,valid_losses,train_accuracy, valid_accuracy, lr_steps]\n",
    "valid_accuracy[-1]"
   ]
  },
  {
   "cell_type": "code",
   "execution_count": 5,
   "metadata": {
    "colab": {
     "base_uri": "https://localhost:8080/",
     "height": 295
    },
    "id": "gwIlvfatSO4P",
    "outputId": "9d92a8bc-091d-42d7-d2fc-3da3a1ba0651"
   },
   "outputs": [
    {
     "data": {
      "image/png": "[encoded data removed]",
      "text/plain": [
       "<Figure size 432x288 with 1 Axes>"
      ]
     },
     "metadata": {
      "needs_background": "light",
      "tags": []
     },
     "output_type": "display_data"
    }
   ],
   "source": [
    "plt.plot(train_losses, label='Training Loss')\n",
    "plt.plot(valid_losses, label='Validation Loss')\n",
    "plt.title('Learning Curve (Tanh LR=0.01)')\n",
    "plt.xlabel('Epochs')\n",
    "plt.ylabel('Loss')\n",
    "plt.legend()\n",
    "plt.show()"
   ]
  },
  {
   "cell_type": "code",
   "execution_count": 8,
   "metadata": {
    "colab": {
     "base_uri": "https://localhost:8080/",
     "height": 295
    },
    "id": "N64SB3BcWGZY",
    "outputId": "c5bad309-00f9-446d-8218-0533a735664c"
   },
   "outputs": [
    {
     "data": {
      "image/png": "[encoded data removed]",
      "text/plain": [
       "<Figure size 432x288 with 1 Axes>"
      ]
     },
     "metadata": {
      "needs_background": "light",
      "tags": []
     },
     "output_type": "display_data"
    }
   ],
   "source": [
    "plt.plot(train_accuracy, label='Training Accuracy')\n",
    "plt.plot(valid_accuracy, label='Valid Accuracy')\n",
    "plt.title('Accuracy Tanh LR=0.01')\n",
    "plt.xlabel('Epochs')\n",
    "plt.ylabel('Accuracy')\n",
    "plt.legend()\n",
    "plt.show()"
   ]
  },
  {
   "cell_type": "code",
   "execution_count": 11,
   "metadata": {
    "colab": {
     "base_uri": "https://localhost:8080/",
     "height": 34
    },
    "id": "gvDC9s9UWIOC",
    "outputId": "eea1d6ea-ccdf-4476-c2a6-b6995bd518ca"
   },
   "outputs": [
    {
     "data": {
      "text/plain": [
       "0.9113"
      ]
     },
     "execution_count": 11,
     "metadata": {
      "tags": []
     },
     "output_type": "execute_result"
    }
   ],
   "source": [
    "valid_accuracy[-1]"
   ]
  },
  {
   "cell_type": "code",
   "execution_count": 12,
   "metadata": {
    "id": "lbSDEMNpXF2F"
   },
   "outputs": [],
   "source": [
    "import torch\n",
    "import torch.nn as nn\n",
    "import torch.nn.functional as F\n",
    "import numpy as np\n",
    "import torchvision\n",
    "import torchvision.transforms as transforms\n",
    "import matplotlib.pyplot as plt\n",
    "from sklearn.metrics import confusion_matrix\n",
    "import seaborn as sns"
   ]
  },
  {
   "cell_type": "code",
   "execution_count": 13,
   "metadata": {
    "colab": {
     "base_uri": "https://localhost:8080/",
     "height": 373,
     "referenced_widgets": [
      "bc39e76748564a90bcd6c0731b1639cd",
      "4b0a1350110c4239bdc8cb3d55989c13",
      "eb803b40a7ba4eaf9f61d279d97d91ed",
      "d78f88c0f1d14383acae657b276ebd9b",
      "aa802bef1ce24560bbeb2465c4119fb4",
      "a97ff6456c28468fa19a4b68f9feb70c",
      "d775b48c731241f1b1d78da6da151e72",
      "6b1a769c54c043d7ac75e2ca8f7cb647",
      "ab3d8da3a0704074822a419ddc92acc8",
      "476f3fd011d54a03838dabaeb41aa43e",
      "980a41707eb34ddfbbacb0d82bf6d088",
      "85733c5b4c844c46a9c02b8092542f08",
      "ed511b58103f479bb173d6e8c226f864",
      "82a62789dd4a4f25b98dde9add7a383b",
      "a5fd9c49d7d1414eb130baab7adc6f35",
      "c1232848a3154d66881bdd78b16c43e8",
      "9c853cbb8f624f9fbcd33569ef49bfe6",
      "c7d26e5abac7418da36d59c0cbcc95d8",
      "fbaffa27d86f469eb57f278832ec87cc",
      "87631370cbfe4115888d7549b8e63b6b",
      "78e99186e88c45c5bd71b17305d6c34b",
      "edbca8b5bdb44521af3139ab402a67a3",
      "bed7d822cc134437aa0823c08cff61a2",
      "210a2a6ff4084e3581511b948a556309",
      "60ffe0c275d34b62bc90fdebc0408094",
      "39066952ef8e45a79c95bd9c9ecb2311",
      "452c48eb90f848589f6fe29afbe9618b",
      "b3c22eb1a3a54a76ad17c6b6c6ba7bba",
      "f5e743ed8db14bd694927f34726a957f",
      "40e299bd06084dd19971d6973302f609",
      "1436110a534847889b857063c9e4b2c6",
      "687c86ceea2e4777ad41c591b61d43a3"
     ]
    },
    "id": "9C50APJBXyrE",
    "outputId": "59f444ee-4bba-4d06-9a9a-d304dfede170"
   },
   "outputs": [
    {
     "name": "stdout",
     "output_type": "stream",
     "text": [
      "Downloading http://fashion-mnist.s3-website.eu-central-1.amazonaws.com/train-images-idx3-ubyte.gz to ./data/FashionMNIST/raw/train-images-idx3-ubyte.gz\n"
     ]
    },
    {
     "data": {
      "application/vnd.jupyter.widget-view+json": {
       "model_id": "bc39e76748564a90bcd6c0731b1639cd",
       "version_major": 2,
       "version_minor": 0
      },
      "text/plain": [
       "HBox(children=(FloatProgress(value=1.0, bar_style='info', max=1.0), HTML(value='')))"
      ]
     },
     "metadata": {
      "tags": []
     },
     "output_type": "display_data"
    },
    {
     "name": "stdout",
     "output_type": "stream",
     "text": [
      "Extracting ./data/FashionMNIST/raw/train-images-idx3-ubyte.gz to ./data/FashionMNIST/raw\n",
      "Downloading http://fashion-mnist.s3-website.eu-central-1.amazonaws.com/train-labels-idx1-ubyte.gz to ./data/FashionMNIST/raw/train-labels-idx1-ubyte.gz\n"
     ]
    },
    {
     "data": {
      "application/vnd.jupyter.widget-view+json": {
       "model_id": "ab3d8da3a0704074822a419ddc92acc8",
       "version_major": 2,
       "version_minor": 0
      },
      "text/plain": [
       "HBox(children=(FloatProgress(value=1.0, bar_style='info', max=1.0), HTML(value='')))"
      ]
     },
     "metadata": {
      "tags": []
     },
     "output_type": "display_data"
    },
    {
     "name": "stdout",
     "output_type": "stream",
     "text": [
      "Extracting ./data/FashionMNIST/raw/train-labels-idx1-ubyte.gz to ./data/FashionMNIST/raw\n",
      "Downloading http://fashion-mnist.s3-website.eu-central-1.amazonaws.com/t10k-images-idx3-ubyte.gz to ./data/FashionMNIST/raw/t10k-images-idx3-ubyte.gz\n"
     ]
    },
    {
     "data": {
      "application/vnd.jupyter.widget-view+json": {
       "model_id": "9c853cbb8f624f9fbcd33569ef49bfe6",
       "version_major": 2,
       "version_minor": 0
      },
      "text/plain": [
       "HBox(children=(FloatProgress(value=1.0, bar_style='info', max=1.0), HTML(value='')))"
      ]
     },
     "metadata": {
      "tags": []
     },
     "output_type": "display_data"
    },
    {
     "name": "stdout",
     "output_type": "stream",
     "text": [
      "Extracting ./data/FashionMNIST/raw/t10k-images-idx3-ubyte.gz to ./data/FashionMNIST/raw\n",
      "Downloading http://fashion-mnist.s3-website.eu-central-1.amazonaws.com/t10k-labels-idx1-ubyte.gz to ./data/FashionMNIST/raw/t10k-labels-idx1-ubyte.gz\n"
     ]
    },
    {
     "data": {
      "application/vnd.jupyter.widget-view+json": {
       "model_id": "60ffe0c275d34b62bc90fdebc0408094",
       "version_major": 2,
       "version_minor": 0
      },
      "text/plain": [
       "HBox(children=(FloatProgress(value=1.0, bar_style='info', max=1.0), HTML(value='')))"
      ]
     },
     "metadata": {
      "tags": []
     },
     "output_type": "display_data"
    },
    {
     "name": "stdout",
     "output_type": "stream",
     "text": [
      "Extracting ./data/FashionMNIST/raw/t10k-labels-idx1-ubyte.gz to ./data/FashionMNIST/raw\n",
      "Processing...\n",
      "Done!\n"
     ]
    },
    {
     "name": "stderr",
     "output_type": "stream",
     "text": [
      "/usr/local/lib/python3.6/dist-packages/torchvision/datasets/mnist.py:469: UserWarning: The given NumPy array is not writeable, and PyTorch does not support non-writeable tensors. This means you can write to the underlying (supposedly non-writeable) NumPy array using the tensor. You may want to copy the array to protect its data or make it writeable before converting it to a tensor. This type of warning will be suppressed for the rest of this program. (Triggered internally at  /pytorch/torch/csrc/utils/tensor_numpy.cpp:141.)\n",
      "  return torch.from_numpy(parsed.astype(m[2], copy=False)).view(*s)\n"
     ]
    }
   ],
   "source": [
    "train_set=torchvision.datasets.FashionMNIST(root='./data', train=True, download=True, transform=transforms.ToTensor())\n",
    "test_set=torchvision.datasets.FashionMNIST(root='./data', train=False, download=True, transform=transforms.ToTensor())\n",
    "\n",
    "train_loader=torch.utils.data.DataLoader(train_set, batch_size=100, shuffle=True)\n",
    "test_loader=torch.utils.data.DataLoader(test_set, batch_size=100, shuffle=False)\n"
   ]
  },
  {
   "cell_type": "code",
   "execution_count": 14,
   "metadata": {
    "id": "QzJAoSVOX4gM"
   },
   "outputs": [],
   "source": [
    "output_mapping = {\n",
    "                 0: \"T-shirt/Top\",\n",
    "                 1: \"Trouser\",\n",
    "                 2: \"Pullover\",\n",
    "                 3: \"Dress\",\n",
    "                 4: \"Coat\",\n",
    "                 5: \"Sandal\",\n",
    "                 6: \"Shirt\",\n",
    "                 7: \"Sneaker\",\n",
    "                 8: \"Bag\",\n",
    "                 9: \"Ankle Boot\"\n",
    "                 }"
   ]
  },
  {
   "cell_type": "code",
   "execution_count": 67,
   "metadata": {
    "colab": {
     "base_uri": "https://localhost:8080/",
     "height": 1000
    },
    "id": "Z-4885gaX8Qt",
    "outputId": "94eaf7dc-4d7f-408c-dba3-da003dda7f3b"
   },
   "outputs": [
    {
     "name": "stderr",
     "output_type": "stream",
     "text": [
      "/usr/local/lib/python3.6/dist-packages/ipykernel_launcher.py:44: UserWarning: Implicit dimension choice for softmax has been deprecated. Change the call to include dim=X as an argument.\n",
      "/usr/local/lib/python3.6/dist-packages/ipykernel_launcher.py:46: UserWarning: Implicit dimension choice for softmax has been deprecated. Change the call to include dim=X as an argument.\n"
     ]
    },
    {
     "name": "stdout",
     "output_type": "stream",
     "text": [
      "Epoch 0, Loss 1.395633\n",
      "Test Accuracy:0.654800\n",
      "Epoch 1, Loss 1.127830\n",
      "Test Accuracy:0.715300\n",
      "Epoch 2, Loss 0.999274\n",
      "Test Accuracy:0.748300\n",
      "Epoch 3, Loss 0.919806\n",
      "Test Accuracy:0.763400\n",
      "Epoch 4, Loss 0.862425\n",
      "Test Accuracy:0.781300\n",
      "Epoch 5, Loss 0.818585\n",
      "Test Accuracy:0.791000\n",
      "Epoch 6, Loss 0.783801\n",
      "Test Accuracy:0.794000\n",
      "Epoch 7, Loss 0.755195\n",
      "Test Accuracy:0.799700\n",
      "Epoch 8, Loss 0.731126\n",
      "Test Accuracy:0.814600\n",
      "Epoch 9, Loss 0.710433\n",
      "Test Accuracy:0.809400\n"
     ]
    },
    {
     "data": {
      "text/plain": [
       "<Figure size 432x288 with 0 Axes>"
      ]
     },
     "metadata": {
      "tags": []
     },
     "output_type": "display_data"
    },
    {
     "data": {
      "text/plain": [
       "<Figure size 720x720 with 0 Axes>"
      ]
     },
     "metadata": {
      "tags": []
     },
     "output_type": "display_data"
    },
    {
     "data": {
      "text/plain": [
       "<Figure size 720x720 with 0 Axes>"
      ]
     },
     "metadata": {
      "tags": []
     },
     "output_type": "display_data"
    },
    {
     "data": {
      "text/plain": [
       "<Figure size 720x720 with 0 Axes>"
      ]
     },
     "metadata": {
      "tags": []
     },
     "output_type": "display_data"
    },
    {
     "data": {
      "text/plain": [
       "<Figure size 720x720 with 0 Axes>"
      ]
     },
     "metadata": {
      "tags": []
     },
     "output_type": "display_data"
    },
    {
     "data": {
      "text/plain": [
       "<Figure size 720x720 with 0 Axes>"
      ]
     },
     "metadata": {
      "tags": []
     },
     "output_type": "display_data"
    },
    {
     "data": {
      "text/plain": [
       "<Figure size 720x720 with 0 Axes>"
      ]
     },
     "metadata": {
      "tags": []
     },
     "output_type": "display_data"
    },
    {
     "data": {
      "text/plain": [
       "<Figure size 720x720 with 0 Axes>"
      ]
     },
     "metadata": {
      "tags": []
     },
     "output_type": "display_data"
    },
    {
     "data": {
      "text/plain": [
       "<Figure size 720x720 with 0 Axes>"
      ]
     },
     "metadata": {
      "tags": []
     },
     "output_type": "display_data"
    },
    {
     "data": {
      "text/plain": [
       "<Figure size 720x720 with 0 Axes>"
      ]
     },
     "metadata": {
      "tags": []
     },
     "output_type": "display_data"
    },
    {
     "data": {
      "image/png": "[encoded data removed]",
      "text/plain": [
       "<Figure size 720x720 with 2 Axes>"
      ]
     },
     "metadata": {
      "needs_background": "light",
      "tags": []
     },
     "output_type": "display_data"
    }
   ],
   "source": [
    "class MLP(nn.Module):\n",
    "    def __init__(self, dropout_rate):\n",
    "        super(MLP, self).__init__()\n",
    "        self.net=nn.Sequential(\n",
    "            nn.Linear(784,100),\n",
    "            nn.ReLU(),\n",
    "            nn.Dropout(dropout_rate),\n",
    "            nn.Linear(100,10)\n",
    "        )\n",
    "\n",
    "    def forward(self, x):\n",
    "        x=x.view(100,-1)\n",
    "        return self.net(x)\n",
    "\n",
    "def train():\n",
    "    mlp=MLP(dropout_rate=0.3)\n",
    "    losses=[]\n",
    "    running_loss=0.0\n",
    "    counts=0\n",
    "    criterion=nn.CrossEntropyLoss()\n",
    "    optimizer=torch.optim.SGD(mlp.parameters(), lr=0.01)\n",
    "    for i in range(10):\n",
    "        for x_train, y_train in train_loader:\n",
    "            optimizer.zero_grad()\n",
    "            y_pred=mlp(x_train)\n",
    "            loss=criterion(y_pred,y_train)\n",
    "            l2_reg=torch.tensor(0.)\n",
    "            lambda_reg=torch.tensor(0.0001)\n",
    "            for param in mlp.parameters():\n",
    "                l2_reg+=torch.norm(param)\n",
    "            loss+=lambda_reg * l2_reg\n",
    "            loss.backward()\n",
    "            optimizer.step()\n",
    "            running_loss+=loss.item()\n",
    "            counts+=1\n",
    "        losses.append(running_loss/counts)\n",
    "        corrects=0\n",
    "        batches=0\n",
    "        preds=[]\n",
    "        targets=[]\n",
    "        for x_test,y_test in test_loader:\n",
    "            with torch.no_grad():\n",
    "                y_pred=mlp(x_test)\n",
    "                preds.append(F.softmax(y_pred).max(1,keepdim=True)[1])\n",
    "                targets.append(y_test.cpu())\n",
    "                corrects+=F.softmax(y_pred).max(1,keepdim=True)[1].eq(y_test.view(-1,1)).sum().item()\n",
    "            batches+=1\n",
    "        plt.clf()\n",
    "        plt.figure(figsize=(10,10))\n",
    "        print('Epoch %d, Loss %f'%(i, running_loss/counts))\n",
    "        print('Test Accuracy:%f'%(corrects/(batches*100)))\n",
    "        targets_test=torch.cat(targets).numpy()\n",
    "        preds_test=(torch.cat(preds)[:,-1]).numpy()\n",
    "        cf_matrix=confusion_matrix(targets_test,preds_test)\n",
    "\n",
    "        hm=sns.heatmap(cf_matrix / np.sum(cf_matrix), annot=True,\n",
    "                    fmt='.2%', cmap='Blues', linewidths=.9, xticklabels=list(output_mapping.values()), yticklabels=list(output_mapping.values()))\n",
    "        hm.get_figure().savefig('epoch_%d_confusion.png'%i)\n",
    "    return cf_matrix, losses\n",
    "\n",
    "cf_matrix, losses=train()"
   ]
  },
  {
   "cell_type": "code",
   "execution_count": 81,
   "metadata": {
    "colab": {
     "base_uri": "https://localhost:8080/",
     "height": 511
    },
    "id": "KAUJK-1AYF5f",
    "outputId": "a0f3c880-d91a-4c19-8f4c-52b411509f3f"
   },
   "outputs": [
    {
     "name": "stdout",
     "output_type": "stream",
     "text": [
      "Class 0-T-shirt/Top most confused with: Shirt at a rate of ~1.97%\n",
      "Class 1-Trouser most confused with: Dress at a rate of ~0.17%\n",
      "Class 2-Pullover most confused with: Shirt at a rate of ~1.3800000000000001%\n",
      "Class 3-Dress most confused with: T-shirt/Top at a rate of ~0.61%\n",
      "Class 4-Coat most confused with: Pullover at a rate of ~1.8900000000000001%\n",
      "Class 5-Sandal most confused with: Sneaker at a rate of ~0.45%\n",
      "Class 6-Shirt most confused with: Coat at a rate of ~0.73%\n",
      "Class 7-Sneaker most confused with: Sandal at a rate of ~0.68%\n",
      "Class 8-Bag most confused with: Shirt at a rate of ~0.28%\n",
      "Class 9-Ankle Boot most confused with: Sneaker at a rate of ~0.76%\n"
     ]
    },
    {
     "name": "stderr",
     "output_type": "stream",
     "text": [
      "/usr/local/lib/python3.6/dist-packages/ipykernel_launcher.py:10: UserWarning: In Matplotlib 3.3 individual lines on a stem plot will be added as a LineCollection instead of individual lines. This significantly improves the performance of a stem plot. To remove this warning and switch to the new behaviour, set the \"use_line_collection\" keyword argument to True.\n",
      "  # Remove the CWD from sys.path while we load stuff.\n"
     ]
    },
    {
     "data": {
      "image/png": "[encoded data removed]",
      "text/plain": [
       "<Figure size 432x288 with 1 Axes>"
      ]
     },
     "metadata": {
      "needs_background": "light",
      "tags": []
     },
     "output_type": "display_data"
    },
    {
     "name": "stdout",
     "output_type": "stream",
     "text": [
      "Most likely to be confused 2 classes:  Coat,Pullover\n"
     ]
    }
   ],
   "source": [
    "confusions_per_class=[]\n",
    "for k,v in output_mapping.items():\n",
    "  m=k\n",
    "  col=cf_matrix[:,m]\n",
    "  col=col.copy()\n",
    "  col[m]=-1\n",
    "  confusions_per_class.append(np.sum(col[col>0])/np.sum(cf_matrix)*100)\n",
    "  col=col.tolist()\n",
    "  print(f'Class {m}-{output_mapping[m]} most confused with: {output_mapping[np.argmax(col)]} at a rate of ~{np.max(col)*0.01}%')\n",
    "plt.stem(confusions_per_class)\n",
    "plt.xticks(range(10),output_mapping.values())\n",
    "plt.show()\n",
    "confusions_per_class=np.array(confusions_per_class).argsort()[-2:][::-1]\n",
    "print('Most likely to be confused 2 classes: ',','.join([output_mapping[cls]for cls in confusions_per_class]))"
   ]
  },
  {
   "cell_type": "code",
   "execution_count": 82,
   "metadata": {
    "id": "G0o-EtPkj46V"
   },
   "outputs": [],
   "source": [
    "import torch\n",
    "import torch.nn as nn\n",
    "import torch.nn.functional as F\n",
    "import numpy as np\n",
    "import torchvision\n",
    "import torchvision.transforms as transforms\n",
    "import matplotlib.pyplot as plt\n"
   ]
  },
  {
   "cell_type": "code",
   "execution_count": 83,
   "metadata": {
    "id": "JngRZAmij5V8"
   },
   "outputs": [],
   "source": [
    "train_set=torchvision.datasets.FashionMNIST(root='./data', train=True, download=True, transform=transforms.ToTensor())\n",
    "test_set=torchvision.datasets.FashionMNIST(root='./data', train=False, download=True, transform=transforms.ToTensor())\n",
    "\n",
    "train_loader=torch.utils.data.DataLoader(train_set, batch_size=100, shuffle=True)\n",
    "test_loader=torch.utils.data.DataLoader(test_set, batch_size=100, shuffle=False)\n"
   ]
  },
  {
   "cell_type": "code",
   "execution_count": 84,
   "metadata": {
    "id": "PXOrqDH0j7PN"
   },
   "outputs": [],
   "source": [
    "output_mapping = {\n",
    "                 0: \"T-shirt/Top\",\n",
    "                 1: \"Trouser\",\n",
    "                 2: \"Pullover\",\n",
    "                 3: \"Dress\",\n",
    "                 4: \"Coat\",\n",
    "                 5: \"Sandal\",\n",
    "                 6: \"Shirt\",\n",
    "                 7: \"Sneaker\",\n",
    "                 8: \"Bag\",\n",
    "                 9: \"Ankle Boot\"\n",
    "                 }"
   ]
  },
  {
   "cell_type": "code",
   "execution_count": 85,
   "metadata": {
    "id": "x-s3mhIJj-Kz"
   },
   "outputs": [],
   "source": [
    "class MLP_1(nn.Module):\n",
    "    def __init__(self):\n",
    "        super(MLP_1, self).__init__()\n",
    "        self.linear1=nn.Linear(784,128)\n",
    "        self.linear2=nn.Linear(128,10)\n",
    "\n",
    "    def forward(self,x):\n",
    "        x=self.linear1(x)\n",
    "        x=F.relu(x)\n",
    "        x=self.linear2(x)\n",
    "        return x\n",
    "\n",
    "class MLP_2(nn.Module):\n",
    "    def __init__(self):\n",
    "        super(MLP_2, self).__init__()\n",
    "        self.linear1=nn.Linear(784,48)\n",
    "        self.linear2=nn.Linear(48,10)\n",
    "\n",
    "    def forward(self,x):\n",
    "        x=self.linear1(x)\n",
    "        x=F.relu(x)\n",
    "        x=F.dropout(x,0.2)\n",
    "        x=self.linear2(x)\n",
    "        return x\n"
   ]
  },
  {
   "cell_type": "code",
   "execution_count": 99,
   "metadata": {
    "colab": {
     "base_uri": "https://localhost:8080/",
     "height": 1000
    },
    "id": "eFsRuBGWkIbq",
    "outputId": "6e8ae818-b6bf-44ff-e588-351b63fb9475"
   },
   "outputs": [
    {
     "name": "stdout",
     "output_type": "stream",
     "text": [
      "Epoch 01, Iteration: 60000, Loss: 2.0460, Accuracy: 30.405%\n",
      "Epoch 02, Iteration: 120000, Loss: 1.7835, Accuracy: 50.745%\n",
      "Epoch 03, Iteration: 180000, Loss: 1.5386, Accuracy: 60.832%\n",
      "Epoch 04, Iteration: 240000, Loss: 1.4006, Accuracy: 63.955%\n",
      "Epoch 05, Iteration: 300000, Loss: 1.2380, Accuracy: 65.090%\n",
      "Epoch 06, Iteration: 360000, Loss: 1.1454, Accuracy: 65.867%\n",
      "Epoch 07, Iteration: 420000, Loss: 1.0141, Accuracy: 66.668%\n",
      "Epoch 08, Iteration: 480000, Loss: 0.9068, Accuracy: 67.488%\n",
      "Epoch 09, Iteration: 540000, Loss: 0.9261, Accuracy: 68.390%\n",
      "Epoch 10, Iteration: 600000, Loss: 0.8343, Accuracy: 69.120%\n",
      "Epoch 11, Iteration: 660000, Loss: 0.9578, Accuracy: 70.153%\n",
      "Epoch 12, Iteration: 720000, Loss: 0.8040, Accuracy: 71.115%\n",
      "Epoch 13, Iteration: 780000, Loss: 0.8429, Accuracy: 71.982%\n",
      "Epoch 14, Iteration: 840000, Loss: 0.6328, Accuracy: 72.852%\n",
      "Epoch 15, Iteration: 900000, Loss: 0.7510, Accuracy: 73.428%\n",
      "Epoch 16, Iteration: 960000, Loss: 0.7368, Accuracy: 74.207%\n",
      "Epoch 17, Iteration: 1020000, Loss: 0.7836, Accuracy: 74.667%\n",
      "Epoch 18, Iteration: 1080000, Loss: 0.5979, Accuracy: 75.202%\n",
      "Epoch 19, Iteration: 1140000, Loss: 0.7967, Accuracy: 75.665%\n",
      "Epoch 20, Iteration: 1200000, Loss: 0.6634, Accuracy: 76.135%\n",
      "Epoch 21, Iteration: 1260000, Loss: 0.6659, Accuracy: 76.580%\n",
      "Epoch 22, Iteration: 1320000, Loss: 0.7060, Accuracy: 76.945%\n",
      "Epoch 23, Iteration: 1380000, Loss: 0.7236, Accuracy: 77.420%\n",
      "Epoch 24, Iteration: 1440000, Loss: 0.6437, Accuracy: 77.678%\n",
      "Epoch 25, Iteration: 1500000, Loss: 0.6352, Accuracy: 78.142%\n",
      "Epoch 26, Iteration: 1560000, Loss: 0.7266, Accuracy: 78.425%\n",
      "Epoch 27, Iteration: 1620000, Loss: 0.6834, Accuracy: 78.660%\n",
      "Epoch 28, Iteration: 1680000, Loss: 0.6920, Accuracy: 78.972%\n",
      "Epoch 29, Iteration: 1740000, Loss: 0.6672, Accuracy: 79.237%\n",
      "Epoch 30, Iteration: 1800000, Loss: 0.6517, Accuracy: 79.443%\n",
      "Epoch 31, Iteration: 1860000, Loss: 0.6435, Accuracy: 79.685%\n",
      "Epoch 32, Iteration: 1920000, Loss: 0.6538, Accuracy: 79.842%\n",
      "Epoch 33, Iteration: 1980000, Loss: 0.6198, Accuracy: 80.015%\n",
      "Epoch 34, Iteration: 2040000, Loss: 0.6248, Accuracy: 80.262%\n",
      "Epoch 35, Iteration: 2100000, Loss: 0.5856, Accuracy: 80.412%\n",
      "Epoch 36, Iteration: 2160000, Loss: 0.6220, Accuracy: 80.580%\n",
      "Epoch 37, Iteration: 2220000, Loss: 0.4597, Accuracy: 80.720%\n",
      "Epoch 38, Iteration: 2280000, Loss: 0.6439, Accuracy: 80.903%\n",
      "Epoch 39, Iteration: 2340000, Loss: 0.6444, Accuracy: 80.948%\n",
      "Epoch 40, Iteration: 2400000, Loss: 0.6339, Accuracy: 81.160%\n"
     ]
    },
    {
     "data": {
      "image/png": "[encoded data removed]",
      "text/plain": [
       "<Figure size 432x288 with 1 Axes>"
      ]
     },
     "metadata": {
      "needs_background": "light",
      "tags": []
     },
     "output_type": "display_data"
    },
    {
     "data": {
      "image/png": "[encoded data removed]",
      "text/plain": [
       "<Figure size 432x288 with 1 Axes>"
      ]
     },
     "metadata": {
      "needs_background": "light",
      "tags": []
     },
     "output_type": "display_data"
    },
    {
     "data": {
      "image/png": "[encoded data removed]",
      "text/plain": [
       "<Figure size 432x288 with 1 Axes>"
      ]
     },
     "metadata": {
      "needs_background": "light",
      "tags": []
     },
     "output_type": "display_data"
    },
    {
     "data": {
      "image/png": "[encoded data removed]",
      "text/plain": [
       "<Figure size 432x288 with 1 Axes>"
      ]
     },
     "metadata": {
      "needs_background": "light",
      "tags": []
     },
     "output_type": "display_data"
    }
   ],
   "source": [
    "def setting_1():\n",
    "    mlp_1 = MLP_1()\n",
    "    mlp_1 = mlp_1.cuda()\n",
    "    count = 0\n",
    "    loss_func = nn.CrossEntropyLoss()\n",
    "    optimizer = torch.optim.SGD(mlp_1.parameters(), lr=1e-3)\n",
    "    losses = []\n",
    "    accuracy = []\n",
    "    for epoch in range(40):\n",
    "        correct = 0\n",
    "        for images, labels in train_loader:\n",
    "            optimizer.zero_grad()\n",
    "            count += labels.size(0)\n",
    "            input = images.view(-1, 28 * 28)\n",
    "            input=input.to('cuda')\n",
    "            outputs = mlp_1.forward(input)\n",
    "            labels=labels.to('cuda')\n",
    "            # for param in mlp_1.parameters():\n",
    "            #     # print(param)\n",
    "            #     l2_regularization+=torch.norm(param,2)**2\n",
    "            loss = loss_func(outputs, labels)\n",
    "            loss.backward()\n",
    "            optimizer.step()\n",
    "            predictions = torch.max(outputs, 1)[1]\n",
    "            correct += (predictions.cpu() == labels.cpu()).sum().numpy()\n",
    "        losses.append(loss.data)\n",
    "        accuracy.append(100 * correct / len(train_loader.dataset))\n",
    "        print(\n",
    "            f'Epoch {epoch + 1:02d}, Iteration: {count:5d}, Loss: {loss.data:.4f}, Accuracy: {100 * correct / len(train_loader.dataset):2.3f}%')\n",
    "\n",
    "    plt.plot(losses)\n",
    "    plt.xlabel('Epochs')\n",
    "    plt.ylabel('Loss')\n",
    "    plt.title('Train Loss Graph')\n",
    "    plt.show()\n",
    "    plt.figure()\n",
    "    plt.plot(accuracy)\n",
    "    plt.xlabel('Epochs')\n",
    "    plt.ylabel('Accuracy')\n",
    "    plt.title('Train Accuracy Graph')\n",
    "    plt.show()\n",
    "    plt.figure()\n",
    "\n",
    "    plt.hist(mlp_1.linear1.weight.cpu().detach().numpy().T.flatten())\n",
    "    plt.title('Weight Layer 1 Histogram (No Reg)')\n",
    "    plt.show()\n",
    "    plt.figure()\n",
    "    plt.hist(mlp_1.linear2.weight.cpu().detach().numpy().T.flatten())\n",
    "    plt.title('Weight Layer 2 Histogram (No Reg)')\n",
    "    plt.show()\n",
    "    return mlp_1\n",
    "mlp_1=setting_1()"
   ]
  },
  {
   "cell_type": "code",
   "execution_count": 100,
   "metadata": {
    "colab": {
     "base_uri": "https://localhost:8080/",
     "height": 1000
    },
    "id": "QxsGZdT4kyoN",
    "outputId": "0bb01f6c-8737-498a-9492-2f1ef941e004"
   },
   "outputs": [
    {
     "name": "stdout",
     "output_type": "stream",
     "text": [
      "Epoch 01, Iteration:   600, Loss: 2.0905, Accuracy: 26.408%\n",
      "Epoch 02, Iteration:  1200, Loss: 1.8492, Accuracy: 46.372%\n",
      "Epoch 03, Iteration:  1800, Loss: 1.6025, Accuracy: 53.710%\n",
      "Epoch 04, Iteration:  2400, Loss: 1.4805, Accuracy: 57.138%\n",
      "Epoch 05, Iteration:  3000, Loss: 1.2089, Accuracy: 59.028%\n",
      "Epoch 06, Iteration:  3600, Loss: 1.2353, Accuracy: 60.515%\n",
      "Epoch 07, Iteration:  4200, Loss: 1.1331, Accuracy: 61.690%\n",
      "Epoch 08, Iteration:  4800, Loss: 0.9938, Accuracy: 62.582%\n",
      "Epoch 09, Iteration:  5400, Loss: 1.1297, Accuracy: 63.822%\n",
      "Epoch 10, Iteration:  6000, Loss: 1.0708, Accuracy: 64.712%\n",
      "Epoch 11, Iteration:  6600, Loss: 0.9449, Accuracy: 65.512%\n",
      "Epoch 12, Iteration:  7200, Loss: 1.1306, Accuracy: 66.250%\n",
      "Epoch 13, Iteration:  7800, Loss: 0.8580, Accuracy: 66.910%\n",
      "Epoch 14, Iteration:  8400, Loss: 0.8883, Accuracy: 67.632%\n",
      "Epoch 15, Iteration:  9000, Loss: 0.8855, Accuracy: 68.322%\n",
      "Epoch 16, Iteration:  9600, Loss: 0.8757, Accuracy: 68.832%\n",
      "Epoch 17, Iteration: 10200, Loss: 0.7388, Accuracy: 69.653%\n",
      "Epoch 18, Iteration: 10800, Loss: 0.8739, Accuracy: 69.908%\n",
      "Epoch 19, Iteration: 11400, Loss: 0.8148, Accuracy: 70.438%\n",
      "Epoch 20, Iteration: 12000, Loss: 0.8164, Accuracy: 71.095%\n",
      "Epoch 21, Iteration: 12600, Loss: 0.8640, Accuracy: 71.723%\n",
      "Epoch 22, Iteration: 13200, Loss: 0.8542, Accuracy: 71.987%\n",
      "Epoch 23, Iteration: 13800, Loss: 0.8444, Accuracy: 72.338%\n",
      "Epoch 24, Iteration: 14400, Loss: 0.8459, Accuracy: 72.678%\n",
      "Epoch 25, Iteration: 15000, Loss: 0.8297, Accuracy: 73.213%\n",
      "Epoch 26, Iteration: 15600, Loss: 0.7872, Accuracy: 73.560%\n",
      "Epoch 27, Iteration: 16200, Loss: 0.7690, Accuracy: 73.818%\n",
      "Epoch 28, Iteration: 16800, Loss: 0.7128, Accuracy: 73.967%\n",
      "Epoch 29, Iteration: 17400, Loss: 0.7589, Accuracy: 74.202%\n",
      "Epoch 30, Iteration: 18000, Loss: 0.7548, Accuracy: 74.770%\n",
      "Epoch 31, Iteration: 18600, Loss: 0.8203, Accuracy: 75.013%\n",
      "Epoch 32, Iteration: 19200, Loss: 0.6249, Accuracy: 75.138%\n",
      "Epoch 33, Iteration: 19800, Loss: 0.8023, Accuracy: 75.563%\n",
      "Epoch 34, Iteration: 20400, Loss: 0.7130, Accuracy: 75.638%\n",
      "Epoch 35, Iteration: 21000, Loss: 0.8116, Accuracy: 76.013%\n",
      "Epoch 36, Iteration: 21600, Loss: 0.6957, Accuracy: 76.217%\n",
      "Epoch 37, Iteration: 22200, Loss: 0.5612, Accuracy: 76.273%\n",
      "Epoch 38, Iteration: 22800, Loss: 0.6402, Accuracy: 76.667%\n",
      "Epoch 39, Iteration: 23400, Loss: 0.5803, Accuracy: 76.695%\n",
      "Epoch 40, Iteration: 24000, Loss: 0.6964, Accuracy: 76.850%\n"
     ]
    },
    {
     "data": {
      "image/png": "[encoded data removed]",
      "text/plain": [
       "<Figure size 432x288 with 1 Axes>"
      ]
     },
     "metadata": {
      "needs_background": "light",
      "tags": []
     },
     "output_type": "display_data"
    },
    {
     "data": {
      "image/png": "[encoded data removed]",
      "text/plain": [
       "<Figure size 432x288 with 1 Axes>"
      ]
     },
     "metadata": {
      "needs_background": "light",
      "tags": []
     },
     "output_type": "display_data"
    },
    {
     "data": {
      "image/png": "[encoded data removed]",
      "text/plain": [
       "<Figure size 432x288 with 1 Axes>"
      ]
     },
     "metadata": {
      "needs_background": "light",
      "tags": []
     },
     "output_type": "display_data"
    },
    {
     "data": {
      "image/png": "[encoded data removed]",
      "text/plain": [
       "<Figure size 432x288 with 1 Axes>"
      ]
     },
     "metadata": {
      "needs_background": "light",
      "tags": []
     },
     "output_type": "display_data"
    }
   ],
   "source": [
    "def setting_2():\n",
    "  mlp_2 = MLP_2()\n",
    "  mlp_2 = mlp_2.cuda()\n",
    "  count = 0\n",
    "  loss_func = nn.CrossEntropyLoss()\n",
    "  optimizer = torch.optim.SGD(mlp_2.parameters(), lr=1e-3)\n",
    "  losses = []\n",
    "  accuracy = []\n",
    "  for epoch in range(40):\n",
    "      correct = 0\n",
    "      for images, labels in train_loader:\n",
    "          optimizer.zero_grad()\n",
    "          count += 1\n",
    "          input = images.view(-1, 28 * 28)\n",
    "          input = input.to('cuda')\n",
    "          labels = labels.to('cuda')\n",
    "          l2_regularization = torch.tensor(0.)\n",
    "          l2_regularization = l2_regularization.to('cuda')\n",
    "\n",
    "          outputs = mlp_2.forward(input)\n",
    "\n",
    "          for param in mlp_2.parameters():\n",
    "              l2_regularization+=torch.norm(param)\n",
    "          loss = loss_func(outputs, labels)+0.0001*l2_regularization\n",
    "          loss.backward()\n",
    "          optimizer.step()\n",
    "          predictions = torch.max(outputs, 1)[1]\n",
    "          correct += (predictions.cpu() == labels.cpu()).sum().numpy()\n",
    "      losses.append(loss.data)\n",
    "      accuracy.append(100 * correct / len(train_loader.dataset))\n",
    "      print(\n",
    "          f'Epoch {epoch + 1:02d}, Iteration: {count:5d}, Loss: {loss.data:.4f}, Accuracy: {100 * correct / len(train_loader.dataset):2.3f}%')\n",
    "\n",
    "  plt.plot(losses)\n",
    "  plt.xlabel('Epochs')\n",
    "  plt.ylabel('Loss')\n",
    "  plt.title('Train Loss Graph')\n",
    "  plt.show()\n",
    "  plt.figure()\n",
    "  plt.plot(accuracy)\n",
    "  plt.xlabel('Epochs')\n",
    "  plt.ylabel('Accuracy')\n",
    "  plt.title('Train Accuracy Graph')\n",
    "  plt.show()\n",
    "  plt.figure()\n",
    "\n",
    "  plt.hist(mlp_2.linear1.weight.cpu().detach().numpy().T.flatten())\n",
    "  plt.title('Weight Layer 1 Histogram (L2 Reg)')\n",
    "  plt.show()\n",
    "  plt.figure()\n",
    "  plt.hist(mlp_2.linear2.weight.cpu().detach().numpy().T.flatten())\n",
    "  plt.title('Weight Layer 2 Histogram (L2 Reg)')\n",
    "  plt.show()\n",
    "  return mlp_2\n",
    "mlp_2=setting_2()"
   ]
  },
  {
   "cell_type": "code",
   "execution_count": 105,
   "metadata": {
    "colab": {
     "base_uri": "https://localhost:8080/",
     "height": 86
    },
    "id": "YVwZfBUtoUVB",
    "outputId": "1625b938-c353-4e45-c527-0fbbe3746361"
   },
   "outputs": [
    {
     "name": "stdout",
     "output_type": "stream",
     "text": [
      "tensor(0.0965, device='cuda:0', grad_fn=<MaxBackward1>) tensor(-0.0817, device='cuda:0', grad_fn=<MinBackward1>)\n",
      "tensor(0.3232, device='cuda:0', grad_fn=<MaxBackward1>) tensor(-0.3376, device='cuda:0', grad_fn=<MinBackward1>)\n",
      "tensor(0.1474, device='cuda:0', grad_fn=<MaxBackward1>) tensor(-0.1221, device='cuda:0', grad_fn=<MinBackward1>)\n",
      "tensor(0.4243, device='cuda:0', grad_fn=<MaxBackward1>) tensor(-0.4241, device='cuda:0', grad_fn=<MinBackward1>)\n"
     ]
    }
   ],
   "source": [
    "print(torch.max(mlp_1.linear1.weight), torch.min(mlp_1.linear1.weight))\n",
    "print(torch.max(mlp_1.linear2.weight), torch.min(mlp_1.linear2.weight))\n",
    "\n",
    "print(torch.max(mlp_2.linear1.weight), torch.min(mlp_2.linear1.weight))\n",
    "print(torch.max(mlp_2.linear2.weight), torch.min(mlp_2.linear2.weight))\n"
   ]
  },
  {
   "cell_type": "markdown",
   "metadata": {
    "id": "teH3daNQtVLz"
   },
   "source": [
    "With regularization we have a more spread out distribution of weights with a slightly larger range as compared to without regularization"
   ]
  },
  {
   "cell_type": "code",
   "execution_count": 106,
   "metadata": {
    "id": "upWYuNWXs4BY"
   },
   "outputs": [],
   "source": [
    "import torch\n",
    "import torch.nn as nn\n",
    "import torch.nn.functional as F\n",
    "import h5py\n",
    "import numpy as np\n",
    "from sklearn.model_selection import train_test_split\n",
    "from sklearn.metrics import zero_one_loss\n",
    "import matplotlib.pyplot as plt"
   ]
  },
  {
   "cell_type": "code",
   "execution_count": 111,
   "metadata": {
    "id": "R-ofnKnutpl_"
   },
   "outputs": [],
   "source": [
    "class BinaryMLP(nn.Module):\n",
    "  def __init__(self):\n",
    "    super(BinaryMLP, self).__init__()\n",
    "\n",
    "    self.linear1=nn.Linear(20,20)\n",
    "    self.linear2=nn.Linear(20,1)\n",
    "\n",
    "  def forward(self, x):\n",
    "    x=self.linear1(x)\n",
    "    x=F.relu(x)\n",
    "    x=self.linear2(x)\n",
    "    return F.sigmoid(x)"
   ]
  },
  {
   "cell_type": "code",
   "execution_count": 124,
   "metadata": {
    "id": "BALeXiUttsyh"
   },
   "outputs": [],
   "source": [
    "def bin_mlp_train():\n",
    "  mlp=BinaryMLP()\n",
    "  data_file='binary_random_20fa.hdf5'\n",
    "  with h5py.File(data_file,'r') as hf:\n",
    "      human = hf['human'][:]\n",
    "      machine = hf['machine'][:]\n",
    "  x_data = np.vstack([human, machine])\n",
    "  human_y=np.ones(5100).T\n",
    "  machine_y=np.zeros(5100).T\n",
    "  y_data=np.concatenate([human_y,machine_y])\n",
    "  x_train, x_valid, y_train, y_valid = train_test_split(x_data, y_data, test_size=0.2, random_state=42)\n",
    "\n",
    "  criterion=nn.BCELoss()\n",
    "  optimizer=torch.optim.Adam(mlp.parameters(),lr=1e-2)\n",
    "\n",
    "  running_loss=0.0\n",
    "  count=0\n",
    "  train_acc=[]\n",
    "  valid_acc=[]\n",
    "  for epoch in range(100):\n",
    "      for i in range(int(x_train.shape[0]/16)):\n",
    "          optimizer.zero_grad()\n",
    "          x_batch=torch.Tensor(x_train[i:i+16])\n",
    "          y_batch=torch.Tensor(y_train[i:i+16])\n",
    "\n",
    "          y_pred=mlp(x_batch)\n",
    "\n",
    "          loss=criterion(y_pred,y_batch)\n",
    "          l2_regularization=torch.tensor(0.)\n",
    "          for param in mlp.parameters():\n",
    "              l2_regularization+=torch.norm(param)\n",
    "          loss+=l2_regularization*0.000001\n",
    "          loss.backward()\n",
    "          optimizer.step()\n",
    "\n",
    "          running_loss+=loss.item()\n",
    "          count+=16\n",
    "      with torch.no_grad():\n",
    "          y_pred_train=mlp.forward(torch.Tensor(x_train))\n",
    "          y_pred_valid=mlp.forward(torch.Tensor(x_valid))\n",
    "          train_acc.append((1-zero_one_loss(((y_pred_train>0.5).float()*1).numpy(),y_train)))\n",
    "          valid_acc.append((1-zero_one_loss(((y_pred_valid > 0.5).float() * 1).numpy(), y_valid)))\n",
    "      print(f'Epoch: {epoch}, Loss:{(running_loss/count)}')\n",
    "  plt.plot(train_acc, label='Training Accuracy')\n",
    "  plt.plot(valid_acc, label='Validation Accuracy')\n",
    "  plt.legend()\n",
    "  plt.xlabel('Epochs')\n",
    "  plt.ylabel('Correct classification probability')\n",
    "  plt.show()\n",
    "  plt.figure()\n",
    "  plt.imshow(mlp.linear1.weight.detach().numpy())\n",
    "  plt.show()\n",
    "  plt.figure()\n",
    "  plt.hist(mlp.linear1.weight.detach().numpy().flatten())\n",
    "  plt.show()\n",
    "  print(mlp.linear1.weight)\n",
    "  print(mlp.linear1.bias)"
   ]
  },
  {
   "cell_type": "code",
   "execution_count": 125,
   "metadata": {
    "colab": {
     "base_uri": "https://localhost:8080/",
     "height": 1000
    },
    "id": "agdCK3Pft9dm",
    "outputId": "a8aa54ea-2920-4db9-c316-2c876213d8e1"
   },
   "outputs": [
    {
     "name": "stderr",
     "output_type": "stream",
     "text": [
      "/usr/local/lib/python3.6/dist-packages/torch/nn/functional.py:1625: UserWarning: nn.functional.sigmoid is deprecated. Use torch.sigmoid instead.\n",
      "  warnings.warn(\"nn.functional.sigmoid is deprecated. Use torch.sigmoid instead.\")\n",
      "/usr/local/lib/python3.6/dist-packages/torch/nn/modules/loss.py:529: UserWarning: Using a target size (torch.Size([16])) that is different to the input size (torch.Size([16, 1])) is deprecated. Please ensure they have the same size.\n",
      "  return F.binary_cross_entropy(input, target, weight=self.weight, reduction=self.reduction)\n"
     ]
    },
    {
     "name": "stdout",
     "output_type": "stream",
     "text": [
      "Epoch: 0, Loss:0.038529304924475795\n",
      "Epoch: 1, Loss:0.03869761327080721\n",
      "Epoch: 2, Loss:0.03755526756989508\n",
      "Epoch: 3, Loss:0.03669944084705967\n",
      "Epoch: 4, Loss:0.03563085684297131\n",
      "Epoch: 5, Loss:0.03467326655198692\n",
      "Epoch: 6, Loss:0.033993559366702536\n",
      "Epoch: 7, Loss:0.033043669551547035\n",
      "Epoch: 8, Loss:0.032124660276931616\n",
      "Epoch: 9, Loss:0.031121533807805357\n",
      "Epoch: 10, Loss:0.030130020855326678\n",
      "Epoch: 11, Loss:0.02903176841401766\n",
      "Epoch: 12, Loss:0.027943223668227244\n",
      "Epoch: 13, Loss:0.02689874037328706\n",
      "Epoch: 14, Loss:0.02586711547532259\n",
      "Epoch: 15, Loss:0.02498042426724329\n",
      "Epoch: 16, Loss:0.02416883238749428\n",
      "Epoch: 17, Loss:0.02338703227674724\n",
      "Epoch: 18, Loss:0.02259348782581761\n",
      "Epoch: 19, Loss:0.02181438788480591\n",
      "Epoch: 20, Loss:0.021138088346305057\n",
      "Epoch: 21, Loss:0.020478921984234046\n",
      "Epoch: 22, Loss:0.01984738749962493\n",
      "Epoch: 23, Loss:0.019264172023684568\n",
      "Epoch: 24, Loss:0.01971962249831082\n",
      "Epoch: 25, Loss:0.019202052648186477\n",
      "Epoch: 26, Loss:0.01966968823235709\n",
      "Epoch: 27, Loss:0.01959892260251827\n",
      "Epoch: 28, Loss:0.019122452003300695\n",
      "Epoch: 29, Loss:0.018649563500919706\n",
      "Epoch: 30, Loss:0.018183547700133782\n",
      "Epoch: 31, Loss:0.01775395264055087\n",
      "Epoch: 32, Loss:0.01733467005975989\n",
      "Epoch: 33, Loss:0.01693468187490619\n",
      "Epoch: 34, Loss:0.01655537612851229\n",
      "Epoch: 35, Loss:0.016189517693727593\n",
      "Epoch: 36, Loss:0.01585853596993727\n",
      "Epoch: 37, Loss:0.015907139072139618\n",
      "Epoch: 38, Loss:0.016345113365489806\n",
      "Epoch: 39, Loss:0.0168533585832079\n",
      "Epoch: 40, Loss:0.016639593316216283\n",
      "Epoch: 41, Loss:0.016355157038174164\n",
      "Epoch: 42, Loss:0.016077289249943373\n",
      "Epoch: 43, Loss:0.01579132139360522\n",
      "Epoch: 44, Loss:0.015512929990207633\n",
      "Epoch: 45, Loss:0.015245428721038653\n",
      "Epoch: 46, Loss:0.014989145604833396\n",
      "Epoch: 47, Loss:0.014743493711222003\n",
      "Epoch: 48, Loss:0.01450777907353224\n",
      "Epoch: 49, Loss:0.014281475096280024\n",
      "Epoch: 50, Loss:0.014064051167669595\n",
      "Epoch: 51, Loss:0.013854881611493942\n",
      "Epoch: 52, Loss:0.013653768850208336\n",
      "Epoch: 53, Loss:0.01458174618740809\n",
      "Epoch: 54, Loss:0.015502579826084545\n",
      "Epoch: 55, Loss:0.015341551763195125\n",
      "Epoch: 56, Loss:0.015148705026085639\n",
      "Epoch: 57, Loss:0.014948564872523194\n",
      "Epoch: 58, Loss:0.014750236787453472\n",
      "Epoch: 59, Loss:0.014557692999639757\n",
      "Epoch: 60, Loss:0.014370637192936169\n",
      "Epoch: 61, Loss:0.01418853336189644\n",
      "Epoch: 62, Loss:0.014012116173455606\n",
      "Epoch: 63, Loss:0.013841179290785013\n",
      "Epoch: 64, Loss:0.013678252665781156\n",
      "Epoch: 65, Loss:0.013519031129889633\n",
      "Epoch: 66, Loss:0.013362540586828734\n",
      "Epoch: 67, Loss:0.013217834873956934\n",
      "Epoch: 68, Loss:0.013449232593307157\n",
      "Epoch: 69, Loss:0.013763128372679118\n",
      "Epoch: 70, Loss:0.013992686788924905\n",
      "Epoch: 71, Loss:0.013863246914860754\n",
      "Epoch: 72, Loss:0.013720804743821487\n",
      "Epoch: 73, Loss:0.013578464750230283\n",
      "Epoch: 74, Loss:0.013440201014254615\n",
      "Epoch: 75, Loss:0.013304793327676843\n",
      "Epoch: 76, Loss:0.013172746931073901\n",
      "Epoch: 77, Loss:0.013044074346091452\n",
      "Epoch: 78, Loss:0.01291860755875052\n",
      "Epoch: 79, Loss:0.0127962737236884\n",
      "Epoch: 80, Loss:0.01267696584034904\n",
      "Epoch: 81, Loss:0.012560619886958014\n",
      "Epoch: 82, Loss:0.012447025327735827\n",
      "Epoch: 83, Loss:0.012336070757224411\n",
      "Epoch: 84, Loss:0.012225534380252851\n",
      "Epoch: 85, Loss:0.012643743083291845\n",
      "Epoch: 86, Loss:0.013263190882519196\n",
      "Epoch: 87, Loss:0.01338117883929715\n",
      "Epoch: 88, Loss:0.013608281283703628\n",
      "Epoch: 89, Loss:0.013836373590590863\n",
      "Epoch: 90, Loss:0.013777933530968517\n",
      "Epoch: 91, Loss:0.013715613511085318\n",
      "Epoch: 92, Loss:0.013653344861732027\n",
      "Epoch: 93, Loss:0.01359189475783268\n",
      "Epoch: 94, Loss:0.013531492832310536\n",
      "Epoch: 95, Loss:0.013472141254895428\n",
      "Epoch: 96, Loss:0.013413820809943038\n",
      "Epoch: 97, Loss:0.013356477366864482\n",
      "Epoch: 98, Loss:0.013300044079505302\n",
      "Epoch: 99, Loss:0.013244450290837092\n"
     ]
    },
    {
     "data": {
      "image/png": "[encoded data removed]",
      "text/plain": [
       "<Figure size 432x288 with 1 Axes>"
      ]
     },
     "metadata": {
      "needs_background": "light",
      "tags": []
     },
     "output_type": "display_data"
    },
    {
     "data": {
      "image/png": "[encoded data removed]",
      "text/plain": [
       "<Figure size 432x288 with 1 Axes>"
      ]
     },
     "metadata": {
      "needs_background": "light",
      "tags": []
     },
     "output_type": "display_data"
    },
    {
     "data": {
      "image/png": "[encoded data removed]",
      "text/plain": [
       "<Figure size 432x288 with 1 Axes>"
      ]
     },
     "metadata": {
      "needs_background": "light",
      "tags": []
     },
     "output_type": "display_data"
    },
    {
     "name": "stdout",
     "output_type": "stream",
     "text": [
      "Parameter containing:\n",
      "tensor([[-1.7784e+00,  3.3849e+00,  3.5262e-02,  1.4290e+00,  6.4269e-01,\n",
      "          4.8544e-01, -3.1590e-01,  1.4108e+00,  5.6734e-01, -2.5673e+00,\n",
      "          5.5195e+00,  1.5525e-01, -7.7338e-01, -1.3906e-01,  2.4925e+00,\n",
      "          3.6050e+00,  1.9339e+00,  7.5153e+00, -3.1069e+00, -6.5941e-01],\n",
      "        [-3.4136e+00, -1.9172e-02, -6.9320e-01,  5.0391e+00, -1.2051e+00,\n",
      "         -6.2199e-01,  4.7036e+00, -1.4314e+00,  7.0638e+00, -1.2305e+00,\n",
      "          1.2617e+00, -6.7304e-01, -1.7891e-01,  1.7217e+00,  1.9308e+00,\n",
      "          2.6980e+00,  4.5890e+00,  1.6848e+00,  3.8292e+00,  6.3693e+00],\n",
      "        [-4.9587e+00, -7.2335e-01, -1.3134e+00, -5.3611e-01,  7.8501e-01,\n",
      "          1.0095e+00,  3.6690e+00, -3.1666e-01,  3.6923e+00,  1.1605e+00,\n",
      "          2.4501e+00,  3.8232e-01,  2.2950e+00, -3.9629e+00,  5.6263e-01,\n",
      "         -7.2389e-02,  2.5676e+00,  1.8449e+00,  1.6008e+00,  1.3939e+00],\n",
      "        [ 1.9009e-01, -2.3236e-01,  2.2916e-02, -6.0692e-02, -2.3741e+00,\n",
      "         -7.6360e-01,  1.7821e+00, -5.6647e-01, -2.4900e-01, -1.4204e-01,\n",
      "         -3.8565e+00,  1.7217e+00, -2.2973e+00, -1.2348e+00, -3.5604e-01,\n",
      "          4.3084e+00,  1.6690e+00,  5.6555e+00, -2.9642e+00,  4.0713e+00],\n",
      "        [-3.1955e+00,  1.3381e+00,  9.6898e-01, -1.9465e+00, -2.2460e+00,\n",
      "         -4.5363e-01,  2.3674e+00,  1.6849e+00,  1.2449e+00, -3.6377e+00,\n",
      "          2.0250e+00, -1.7689e-01, -6.5680e+00, -5.2366e+00, -6.0888e-01,\n",
      "          5.3846e+00, -1.0738e+00,  2.1035e+00, -2.0039e+00, -4.8657e-01],\n",
      "        [-1.3745e+00, -2.5925e+00, -2.2529e+00,  2.8929e+00, -1.4735e+00,\n",
      "         -8.3290e-01, -3.5321e+00,  3.0571e+00,  1.2566e-01,  9.6222e-01,\n",
      "         -3.2932e+00, -1.8760e+00,  4.3506e-01, -1.6482e+00,  6.6264e-01,\n",
      "          2.8167e+00,  2.0429e+00,  3.3503e+00, -3.5348e+00,  1.4850e-01],\n",
      "        [ 5.3541e-01,  1.0406e+00, -5.6546e+00,  5.0018e+00,  1.8287e+00,\n",
      "         -2.2943e+00,  1.0310e+00,  6.6759e-01, -5.7188e-01, -6.3467e-01,\n",
      "         -2.5768e+00,  2.8457e+00,  1.3789e+00, -3.8244e+00,  3.0192e+00,\n",
      "          2.1270e+00,  3.9486e-01, -2.2182e+00, -3.5493e+00,  1.8256e+00],\n",
      "        [-1.2240e+00, -2.3040e+00, -4.2209e+00,  3.3616e-01,  1.9689e+00,\n",
      "          2.0032e+00,  4.5551e+00,  2.5938e-03, -3.5674e-01, -1.0548e+00,\n",
      "          3.4400e+00,  1.6464e-01, -4.0924e-01, -4.7040e-02, -1.8311e+00,\n",
      "          8.7634e-01,  2.4813e+00,  1.5204e+00,  1.9883e+00, -1.4413e+00],\n",
      "        [-1.4967e+00, -2.1391e+00,  3.3459e+00,  1.2183e+00, -7.7345e-01,\n",
      "          1.3729e+00,  5.6038e-01,  3.7666e+00,  1.4728e+00, -3.0225e+00,\n",
      "          2.6010e+00, -7.0819e-02,  2.8137e+00, -2.8372e+00, -1.4522e+00,\n",
      "         -3.6505e+00, -4.0858e+00,  1.8343e+00, -1.2739e+00,  1.5058e+00],\n",
      "        [-4.0555e+00, -6.9034e-01,  1.6439e+00,  1.1996e+00, -2.6966e+00,\n",
      "         -1.3210e+00, -1.3713e+00,  2.4001e+00,  3.0763e-01,  1.5229e-01,\n",
      "          3.3379e+00,  3.3170e+00, -1.9663e-01, -2.2035e+00, -2.0207e+00,\n",
      "          3.1046e+00, -2.2597e+00,  4.9884e+00,  4.0987e+00,  1.5839e+00],\n",
      "        [ 3.0321e-01, -2.1126e-02,  1.8904e+00, -1.0215e+00,  2.1460e+00,\n",
      "          1.9451e+00,  7.0799e-01, -1.2387e+00, -3.5236e+00, -2.1301e+00,\n",
      "          2.9277e+00,  3.6451e+00, -3.7486e+00, -2.2769e+00, -3.4574e+00,\n",
      "         -3.7050e+00,  1.1651e+00,  6.1536e-02,  8.0175e-01, -2.3053e-01],\n",
      "        [-4.6819e+00, -5.8810e-01,  1.5395e+00, -2.6724e+00,  1.2660e+00,\n",
      "          4.3919e+00, -2.1232e+00,  5.0564e-01, -1.5708e+00, -1.6015e+00,\n",
      "         -1.6238e+00,  9.9241e-01, -7.8480e-01,  2.8904e+00,  1.4034e+00,\n",
      "          4.1430e+00,  1.0095e+00,  2.0086e+00, -3.2548e+00,  9.5637e-01],\n",
      "        [ 1.1251e+00, -1.6842e+00, -2.1711e-01,  2.8630e+00, -1.3335e+00,\n",
      "          2.2378e-01, -3.3182e+00,  3.2783e+00,  1.0402e+00,  9.3840e-01,\n",
      "          1.0334e+00,  3.4414e+00, -2.6978e+00,  1.4027e+00, -5.6312e-01,\n",
      "          2.3916e+00,  2.1893e+00,  1.0063e+00, -1.6036e+00,  1.3847e+00],\n",
      "        [ 9.8668e-01,  2.0718e+00,  3.0235e-01,  3.1622e+00,  5.3873e+00,\n",
      "         -2.9090e+00,  1.3294e+00, -4.7334e+00,  8.5006e-01, -1.6361e+00,\n",
      "         -1.2211e-02,  2.9197e+00, -7.0786e-01, -1.2421e+00, -2.7167e+00,\n",
      "          4.3242e+00,  8.8728e-01, -3.3869e+00,  6.0095e+00,  3.5323e+00],\n",
      "        [ 2.3425e-01,  2.1639e+00, -3.3445e+00,  1.4796e+00,  2.1689e+00,\n",
      "         -3.4152e-01, -2.5264e-01,  2.3464e-01,  5.5298e+00, -6.0570e-01,\n",
      "          2.4799e+00, -1.8518e+00, -2.5200e+00, -5.7287e+00,  6.9021e-02,\n",
      "         -1.6503e+00,  5.0815e+00,  3.0147e+00, -7.6026e-01,  6.6543e-01],\n",
      "        [-1.9147e-01, -1.4137e+00,  4.2711e+00,  3.8298e+00, -1.8720e+00,\n",
      "          2.0619e+00,  2.6971e+00, -8.6008e-01,  4.1105e-01,  1.8076e+00,\n",
      "          3.2002e+00,  8.1039e-01,  2.4899e+00, -1.0364e+00,  9.1911e-01,\n",
      "         -2.0466e+00, -1.3853e+00, -1.1880e+00, -1.2168e+00,  7.0062e+00],\n",
      "        [ 1.7645e+00,  1.7185e-01, -1.5246e-01,  3.6760e+00,  2.2221e+00,\n",
      "         -2.5930e+00, -2.2792e+00, -3.2522e+00,  1.9207e+00, -4.2825e+00,\n",
      "          1.6633e+00, -1.4632e+00,  9.6411e-01, -1.2758e+00,  3.8346e+00,\n",
      "         -5.3216e+00, -3.7239e+00, -1.4261e+00, -4.4556e-01,  2.5823e+00],\n",
      "        [-3.2543e+00, -8.3954e-02, -1.6323e+00, -2.2285e-02, -1.6584e+00,\n",
      "         -1.1932e+00,  1.3736e+00, -1.0772e+00, -2.6341e+00, -3.3731e+00,\n",
      "         -4.6131e+00, -4.9608e-03, -2.4913e+00, -3.7333e+00, -4.7891e-01,\n",
      "         -2.5383e+00,  1.9062e+00, -5.4735e-01,  2.1024e-01, -1.5147e+00],\n",
      "        [ 1.9706e+00,  1.3041e-01, -2.3995e-01, -6.6382e-01, -3.3458e+00,\n",
      "          3.2686e+00,  2.6088e+00, -2.4737e-01,  2.9321e+00, -7.9913e-01,\n",
      "         -1.0041e+00,  2.3337e+00, -4.8692e+00,  1.7134e-01, -2.2071e+00,\n",
      "          3.5422e+00, -2.8534e+00,  4.8552e+00,  9.6036e-01, -3.2940e-01],\n",
      "        [ 1.2238e+00, -2.3373e-02,  2.3872e+00, -3.8445e+00, -1.5716e+00,\n",
      "         -1.5056e-01,  2.6645e+00, -6.6269e+00,  6.0633e+00,  1.2278e+00,\n",
      "         -3.1661e+00, -1.5842e+00,  3.3010e+00,  1.3392e+00, -4.7278e+00,\n",
      "         -2.9514e+00, -2.0403e+00,  2.9339e+00, -3.5505e+00,  1.9468e+00]],\n",
      "       requires_grad=True)\n",
      "Parameter containing:\n",
      "tensor([ -9.6809,  -6.7489, -12.5830, -10.2256,  -9.8934, -12.5290, -11.2168,\n",
      "        -12.8790, -11.2493, -11.0872, -12.5172, -12.8537, -12.2630,  -9.5850,\n",
      "        -10.1361, -11.7758, -10.0533, -12.6928, -12.7796,  -8.5208],\n",
      "       requires_grad=True)\n"
     ]
    }
   ],
   "source": [
    "bin_mlp_train()"
   ]
  },
  {
   "cell_type": "markdown",
   "metadata": {
    "id": "z2D2XErGxkPu"
   },
   "source": [
    "A majority of the weights are close to 0 which signifies sparse connections amongst features. Therefore by losing uncorrelated features we would be able to reduce dimensionality and get close to similar accuracy."
   ]
  },
  {
   "cell_type": "code",
   "execution_count": 143,
   "metadata": {
    "id": "UBCYGsxet_ja"
   },
   "outputs": [],
   "source": [
    "class CNN1D(nn.Module):\n",
    "  def __init__(self):\n",
    "    super(CNN1D,self).__init__()\n",
    "    self.conv1=nn.Conv1d(20,10,3) #TODO 1: need to fix kernel shape\n",
    "    self.conv2=nn.Conv1d(10,1,5)\n",
    "  def forward(self, x):\n",
    "    x=self.conv1(x)\n",
    "    x=self.conv2(x)\n",
    "    return F.sigmoid(x)\n",
    "\n"
   ]
  },
  {
   "cell_type": "code",
   "execution_count": 141,
   "metadata": {
    "id": "3hnPhEY-yjAo"
   },
   "outputs": [],
   "source": [
    "def cnn_1d_train():\n",
    "  mlp=CNN1D()\n",
    "  data_file='binary_random_20fa.hdf5'\n",
    "  with h5py.File(data_file,'r') as hf:\n",
    "      human = hf['human'][:]\n",
    "      machine = hf['machine'][:]\n",
    "  x_data = np.vstack([human, machine])\n",
    "  human_y=np.ones(5100).T\n",
    "  machine_y=np.zeros(5100).T\n",
    "  y_data=np.concatenate([human_y,machine_y])\n",
    "  x_train, x_valid, y_train, y_valid = train_test_split(x_data, y_data, test_size=0.2, random_state=42)\n",
    "\n",
    "  criterion=nn.BCELoss()\n",
    "  optimizer=torch.optim.Adam(mlp.parameters(),lr=1e-2)\n",
    "\n",
    "  running_loss=0.0\n",
    "  count=0\n",
    "  train_acc=[]\n",
    "  valid_acc=[]\n",
    "  for epoch in range(100):\n",
    "      for i in range(int(x_train.shape[0]/16)):\n",
    "          optimizer.zero_grad()\n",
    "          x_batch=torch.Tensor(x_train[i:i+16])\n",
    "          y_batch=torch.Tensor(y_train[i:i+16])\n",
    "\n",
    "          y_pred=mlp(x_batch.unsqueeze(-2))\n",
    "\n",
    "          loss=criterion(y_pred,y_batch)\n",
    "          l2_regularization=torch.tensor(0.)\n",
    "          for param in mlp.parameters():\n",
    "              l2_regularization+=torch.norm(param)\n",
    "          loss+=l2_regularization*0.000001\n",
    "          loss.backward()\n",
    "          optimizer.step()\n",
    "\n",
    "          running_loss+=loss.item()\n",
    "          count+=16\n",
    "      with torch.no_grad():\n",
    "          y_pred_train=mlp.forward(torch.Tensor(x_train))\n",
    "          y_pred_valid=mlp.forward(torch.Tensor(x_valid))\n",
    "          train_acc.append((1-zero_one_loss(((y_pred_train>0.5).float()*1).numpy(),y_train)))\n",
    "          valid_acc.append((1-zero_one_loss(((y_pred_valid > 0.5).float() * 1).numpy(), y_valid)))\n",
    "      print(f'Epoch: {epoch}, Loss:{(running_loss/count)}')\n",
    "  plt.plot(train_acc, label='Training Accuracy')\n",
    "  plt.plot(valid_acc, label='Validation Accuracy')\n",
    "  plt.legend()\n",
    "  plt.xlabel('Epochs')\n",
    "  plt.ylabel('Correct classification probability')\n",
    "  plt.show()\n",
    "  plt.figure()\n",
    "  plt.imshow(mlp.linear1.weight.detach().numpy())\n",
    "  plt.show()\n",
    "  plt.figure()\n",
    "  plt.hist(mlp.linear1.weight.detach().numpy().flatten())\n",
    "  plt.show()\n",
    "  print(mlp.linear1.weight)\n",
    "  print(mlp.linear1.bias)"
   ]
  },
  {
   "cell_type": "code",
   "execution_count": 142,
   "metadata": {
    "colab": {
     "base_uri": "https://localhost:8080/",
     "height": 312
    },
    "id": "g6M3wHADypKC",
    "outputId": "ade0ec55-1768-4656-cdc9-be03720a3ee5"
   },
   "outputs": [
    {
     "ename": "RuntimeError",
     "evalue": "ignored",
     "output_type": "error",
     "traceback": [
      "\u001b[0;31m---------------------------------------------------------------------------\u001b[0m",
      "\u001b[0;31mRuntimeError\u001b[0m                              Traceback (most recent call last)",
      "\u001b[0;32m<ipython-input-142-5434ef44fbb6>\u001b[0m in \u001b[0;36m<module>\u001b[0;34m()\u001b[0m\n\u001b[0;32m----> 1\u001b[0;31m \u001b[0mcnn_1d_train\u001b[0m\u001b[0;34m(\u001b[0m\u001b[0;34m)\u001b[0m\u001b[0;34m\u001b[0m\u001b[0;34m\u001b[0m\u001b[0m\n\u001b[0m",
      "\u001b[0;32m<ipython-input-141-cc214f61211b>\u001b[0m in \u001b[0;36mcnn_1d_train\u001b[0;34m()\u001b[0m\n\u001b[1;32m     24\u001b[0m           \u001b[0my_batch\u001b[0m\u001b[0;34m=\u001b[0m\u001b[0mtorch\u001b[0m\u001b[0;34m.\u001b[0m\u001b[0mTensor\u001b[0m\u001b[0;34m(\u001b[0m\u001b[0my_train\u001b[0m\u001b[0;34m[\u001b[0m\u001b[0mi\u001b[0m\u001b[0;34m:\u001b[0m\u001b[0mi\u001b[0m\u001b[0;34m+\u001b[0m\u001b[0;36m16\u001b[0m\u001b[0;34m]\u001b[0m\u001b[0;34m)\u001b[0m\u001b[0;34m\u001b[0m\u001b[0;34m\u001b[0m\u001b[0m\n\u001b[1;32m     25\u001b[0m \u001b[0;34m\u001b[0m\u001b[0m\n\u001b[0;32m---> 26\u001b[0;31m           \u001b[0my_pred\u001b[0m\u001b[0;34m=\u001b[0m\u001b[0mmlp\u001b[0m\u001b[0;34m(\u001b[0m\u001b[0mx_batch\u001b[0m\u001b[0;34m.\u001b[0m\u001b[0munsqueeze\u001b[0m\u001b[0;34m(\u001b[0m\u001b[0;34m-\u001b[0m\u001b[0;36m2\u001b[0m\u001b[0;34m)\u001b[0m\u001b[0;34m)\u001b[0m\u001b[0;34m\u001b[0m\u001b[0;34m\u001b[0m\u001b[0m\n\u001b[0m\u001b[1;32m     27\u001b[0m \u001b[0;34m\u001b[0m\u001b[0m\n\u001b[1;32m     28\u001b[0m           \u001b[0mloss\u001b[0m\u001b[0;34m=\u001b[0m\u001b[0mcriterion\u001b[0m\u001b[0;34m(\u001b[0m\u001b[0my_pred\u001b[0m\u001b[0;34m,\u001b[0m\u001b[0my_batch\u001b[0m\u001b[0;34m)\u001b[0m\u001b[0;34m\u001b[0m\u001b[0;34m\u001b[0m\u001b[0m\n",
      "\u001b[0;32m/usr/local/lib/python3.6/dist-packages/torch/nn/modules/module.py\u001b[0m in \u001b[0;36m_call_impl\u001b[0;34m(self, *input, **kwargs)\u001b[0m\n\u001b[1;32m    720\u001b[0m             \u001b[0mresult\u001b[0m \u001b[0;34m=\u001b[0m \u001b[0mself\u001b[0m\u001b[0;34m.\u001b[0m\u001b[0m_slow_forward\u001b[0m\u001b[0;34m(\u001b[0m\u001b[0;34m*\u001b[0m\u001b[0minput\u001b[0m\u001b[0;34m,\u001b[0m \u001b[0;34m**\u001b[0m\u001b[0mkwargs\u001b[0m\u001b[0;34m)\u001b[0m\u001b[0;34m\u001b[0m\u001b[0;34m\u001b[0m\u001b[0m\n\u001b[1;32m    721\u001b[0m         \u001b[0;32melse\u001b[0m\u001b[0;34m:\u001b[0m\u001b[0;34m\u001b[0m\u001b[0;34m\u001b[0m\u001b[0m\n\u001b[0;32m--> 722\u001b[0;31m             \u001b[0mresult\u001b[0m \u001b[0;34m=\u001b[0m \u001b[0mself\u001b[0m\u001b[0;34m.\u001b[0m\u001b[0mforward\u001b[0m\u001b[0;34m(\u001b[0m\u001b[0;34m*\u001b[0m\u001b[0minput\u001b[0m\u001b[0;34m,\u001b[0m \u001b[0;34m**\u001b[0m\u001b[0mkwargs\u001b[0m\u001b[0;34m)\u001b[0m\u001b[0;34m\u001b[0m\u001b[0;34m\u001b[0m\u001b[0m\n\u001b[0m\u001b[1;32m    723\u001b[0m         for hook in itertools.chain(\n\u001b[1;32m    724\u001b[0m                 \u001b[0m_global_forward_hooks\u001b[0m\u001b[0;34m.\u001b[0m\u001b[0mvalues\u001b[0m\u001b[0;34m(\u001b[0m\u001b[0;34m)\u001b[0m\u001b[0;34m,\u001b[0m\u001b[0;34m\u001b[0m\u001b[0;34m\u001b[0m\u001b[0m\n",
      "\u001b[0;32m<ipython-input-136-f65d49509a1d>\u001b[0m in \u001b[0;36mforward\u001b[0;34m(self, x)\u001b[0m\n\u001b[1;32m      5\u001b[0m     \u001b[0mself\u001b[0m\u001b[0;34m.\u001b[0m\u001b[0mconv2\u001b[0m\u001b[0;34m=\u001b[0m\u001b[0mnn\u001b[0m\u001b[0;34m.\u001b[0m\u001b[0mConv1d\u001b[0m\u001b[0;34m(\u001b[0m\u001b[0;36m10\u001b[0m\u001b[0;34m,\u001b[0m\u001b[0;36m1\u001b[0m\u001b[0;34m,\u001b[0m\u001b[0;36m5\u001b[0m\u001b[0;34m)\u001b[0m\u001b[0;34m\u001b[0m\u001b[0;34m\u001b[0m\u001b[0m\n\u001b[1;32m      6\u001b[0m   \u001b[0;32mdef\u001b[0m \u001b[0mforward\u001b[0m\u001b[0;34m(\u001b[0m\u001b[0mself\u001b[0m\u001b[0;34m,\u001b[0m \u001b[0mx\u001b[0m\u001b[0;34m)\u001b[0m\u001b[0;34m:\u001b[0m\u001b[0;34m\u001b[0m\u001b[0;34m\u001b[0m\u001b[0m\n\u001b[0;32m----> 7\u001b[0;31m     \u001b[0mx\u001b[0m\u001b[0;34m=\u001b[0m\u001b[0mself\u001b[0m\u001b[0;34m.\u001b[0m\u001b[0mconv1\u001b[0m\u001b[0;34m(\u001b[0m\u001b[0mx\u001b[0m\u001b[0;34m)\u001b[0m\u001b[0;34m\u001b[0m\u001b[0;34m\u001b[0m\u001b[0m\n\u001b[0m\u001b[1;32m      8\u001b[0m     \u001b[0mx\u001b[0m\u001b[0;34m=\u001b[0m\u001b[0mself\u001b[0m\u001b[0;34m.\u001b[0m\u001b[0mconv2\u001b[0m\u001b[0;34m(\u001b[0m\u001b[0mx\u001b[0m\u001b[0;34m)\u001b[0m\u001b[0;34m\u001b[0m\u001b[0;34m\u001b[0m\u001b[0m\n\u001b[1;32m      9\u001b[0m     \u001b[0;32mreturn\u001b[0m \u001b[0mF\u001b[0m\u001b[0;34m.\u001b[0m\u001b[0msigmoid\u001b[0m\u001b[0;34m(\u001b[0m\u001b[0mx\u001b[0m\u001b[0;34m)\u001b[0m\u001b[0;34m\u001b[0m\u001b[0;34m\u001b[0m\u001b[0m\n",
      "\u001b[0;32m/usr/local/lib/python3.6/dist-packages/torch/nn/modules/module.py\u001b[0m in \u001b[0;36m_call_impl\u001b[0;34m(self, *input, **kwargs)\u001b[0m\n\u001b[1;32m    720\u001b[0m             \u001b[0mresult\u001b[0m \u001b[0;34m=\u001b[0m \u001b[0mself\u001b[0m\u001b[0;34m.\u001b[0m\u001b[0m_slow_forward\u001b[0m\u001b[0;34m(\u001b[0m\u001b[0;34m*\u001b[0m\u001b[0minput\u001b[0m\u001b[0;34m,\u001b[0m \u001b[0;34m**\u001b[0m\u001b[0mkwargs\u001b[0m\u001b[0;34m)\u001b[0m\u001b[0;34m\u001b[0m\u001b[0;34m\u001b[0m\u001b[0m\n\u001b[1;32m    721\u001b[0m         \u001b[0;32melse\u001b[0m\u001b[0;34m:\u001b[0m\u001b[0;34m\u001b[0m\u001b[0;34m\u001b[0m\u001b[0m\n\u001b[0;32m--> 722\u001b[0;31m             \u001b[0mresult\u001b[0m \u001b[0;34m=\u001b[0m \u001b[0mself\u001b[0m\u001b[0;34m.\u001b[0m\u001b[0mforward\u001b[0m\u001b[0;34m(\u001b[0m\u001b[0;34m*\u001b[0m\u001b[0minput\u001b[0m\u001b[0;34m,\u001b[0m \u001b[0;34m**\u001b[0m\u001b[0mkwargs\u001b[0m\u001b[0;34m)\u001b[0m\u001b[0;34m\u001b[0m\u001b[0;34m\u001b[0m\u001b[0m\n\u001b[0m\u001b[1;32m    723\u001b[0m         for hook in itertools.chain(\n\u001b[1;32m    724\u001b[0m                 \u001b[0m_global_forward_hooks\u001b[0m\u001b[0;34m.\u001b[0m\u001b[0mvalues\u001b[0m\u001b[0;34m(\u001b[0m\u001b[0;34m)\u001b[0m\u001b[0;34m,\u001b[0m\u001b[0;34m\u001b[0m\u001b[0;34m\u001b[0m\u001b[0m\n",
      "\u001b[0;32m/usr/local/lib/python3.6/dist-packages/torch/nn/modules/conv.py\u001b[0m in \u001b[0;36mforward\u001b[0;34m(self, input)\u001b[0m\n\u001b[1;32m    255\u001b[0m                             _single(0), self.dilation, self.groups)\n\u001b[1;32m    256\u001b[0m         return F.conv1d(input, self.weight, self.bias, self.stride,\n\u001b[0;32m--> 257\u001b[0;31m                         self.padding, self.dilation, self.groups)\n\u001b[0m\u001b[1;32m    258\u001b[0m \u001b[0;34m\u001b[0m\u001b[0m\n\u001b[1;32m    259\u001b[0m \u001b[0;34m\u001b[0m\u001b[0m\n",
      "\u001b[0;31mRuntimeError\u001b[0m: Given groups=1, weight of size [1, 20, 3], expected input[16, 1, 20] to have 20 channels, but got 1 channels instead"
     ]
    }
   ],
   "source": [
    "cnn_1d_train()"
   ]
  },
  {
   "cell_type": "code",
   "execution_count": null,
   "metadata": {
    "id": "i3ZgEVTHyqZJ"
   },
   "outputs": [],
   "source": []
  }
 ],
 "metadata": {
  "accelerator": "GPU",
  "colab": {
   "collapsed_sections": [],
   "name": "EEDL_HW3_Parallel.ipynb",
   "provenance": []
  },
  "kernelspec": {
   "display_name": "Python 3",
   "language": "python",
   "name": "python3"
  },
  "language_info": {
   "codemirror_mode": {
    "name": "ipython",
    "version": 3
   },
   "file_extension": ".py",
   "mimetype": "text/x-python",
   "name": "python",
   "nbconvert_exporter": "python",
   "pygments_lexer": "ipython3",
   "version": "3.7.3"
  },
  "widgets": {
   "application/vnd.jupyter.widget-state+json": {
    "1436110a534847889b857063c9e4b2c6": {
     "model_module": "@jupyter-widgets/controls",
     "model_name": "DescriptionStyleModel",
     "state": {
      "_model_module": "@jupyter-widgets/controls",
      "_model_module_version": "1.5.0",
      "_model_name": "DescriptionStyleModel",
      "_view_count": null,
      "_view_module": "@jupyter-widgets/base",
      "_view_module_version": "1.2.0",
      "_view_name": "StyleView",
      "description_width": ""
     }
    },
    "210a2a6ff4084e3581511b948a556309": {
     "model_module": "@jupyter-widgets/base",
     "model_name": "LayoutModel",
     "state": {
      "_model_module": "@jupyter-widgets/base",
      "_model_module_version": "1.2.0",
      "_model_name": "LayoutModel",
      "_view_count": null,
      "_view_module": "@jupyter-widgets/base",
      "_view_module_version": "1.2.0",
      "_view_name": "LayoutView",
      "align_content": null,
      "align_items": null,
      "align_self": null,
      "border": null,
      "bottom": null,
      "display": null,
      "flex": null,
      "flex_flow": null,
      "grid_area": null,
      "grid_auto_columns": null,
      "grid_auto_flow": null,
      "grid_auto_rows": null,
      "grid_column": null,
      "grid_gap": null,
      "grid_row": null,
      "grid_template_areas": null,
      "grid_template_columns": null,
      "grid_template_rows": null,
      "height": null,
      "justify_content": null,
      "justify_items": null,
      "left": null,
      "margin": null,
      "max_height": null,
      "max_width": null,
      "min_height": null,
      "min_width": null,
      "object_fit": null,
      "object_position": null,
      "order": null,
      "overflow": null,
      "overflow_x": null,
      "overflow_y": null,
      "padding": null,
      "right": null,
      "top": null,
      "visibility": null,
      "width": null
     }
    },
    "39066952ef8e45a79c95bd9c9ecb2311": {
     "model_module": "@jupyter-widgets/base",
     "model_name": "LayoutModel",
     "state": {
      "_model_module": "@jupyter-widgets/base",
      "_model_module_version": "1.2.0",
      "_model_name": "LayoutModel",
      "_view_count": null,
      "_view_module": "@jupyter-widgets/base",
      "_view_module_version": "1.2.0",
      "_view_name": "LayoutView",
      "align_content": null,
      "align_items": null,
      "align_self": null,
      "border": null,
      "bottom": null,
      "display": null,
      "flex": null,
      "flex_flow": null,
      "grid_area": null,
      "grid_auto_columns": null,
      "grid_auto_flow": null,
      "grid_auto_rows": null,
      "grid_column": null,
      "grid_gap": null,
      "grid_row": null,
      "grid_template_areas": null,
      "grid_template_columns": null,
      "grid_template_rows": null,
      "height": null,
      "justify_content": null,
      "justify_items": null,
      "left": null,
      "margin": null,
      "max_height": null,
      "max_width": null,
      "min_height": null,
      "min_width": null,
      "object_fit": null,
      "object_position": null,
      "order": null,
      "overflow": null,
      "overflow_x": null,
      "overflow_y": null,
      "padding": null,
      "right": null,
      "top": null,
      "visibility": null,
      "width": null
     }
    },
    "40e299bd06084dd19971d6973302f609": {
     "model_module": "@jupyter-widgets/base",
     "model_name": "LayoutModel",
     "state": {
      "_model_module": "@jupyter-widgets/base",
      "_model_module_version": "1.2.0",
      "_model_name": "LayoutModel",
      "_view_count": null,
      "_view_module": "@jupyter-widgets/base",
      "_view_module_version": "1.2.0",
      "_view_name": "LayoutView",
      "align_content": null,
      "align_items": null,
      "align_self": null,
      "border": null,
      "bottom": null,
      "display": null,
      "flex": null,
      "flex_flow": null,
      "grid_area": null,
      "grid_auto_columns": null,
      "grid_auto_flow": null,
      "grid_auto_rows": null,
      "grid_column": null,
      "grid_gap": null,
      "grid_row": null,
      "grid_template_areas": null,
      "grid_template_columns": null,
      "grid_template_rows": null,
      "height": null,
      "justify_content": null,
      "justify_items": null,
      "left": null,
      "margin": null,
      "max_height": null,
      "max_width": null,
      "min_height": null,
      "min_width": null,
      "object_fit": null,
      "object_position": null,
      "order": null,
      "overflow": null,
      "overflow_x": null,
      "overflow_y": null,
      "padding": null,
      "right": null,
      "top": null,
      "visibility": null,
      "width": null
     }
    },
    "452c48eb90f848589f6fe29afbe9618b": {
     "model_module": "@jupyter-widgets/controls",
     "model_name": "FloatProgressModel",
     "state": {
      "_dom_classes": [],
      "_model_module": "@jupyter-widgets/controls",
      "_model_module_version": "1.5.0",
      "_model_name": "FloatProgressModel",
      "_view_count": null,
      "_view_module": "@jupyter-widgets/controls",
      "_view_module_version": "1.5.0",
      "_view_name": "ProgressView",
      "bar_style": "info",
      "description": "",
      "description_tooltip": null,
      "layout": "IPY_MODEL_40e299bd06084dd19971d6973302f609",
      "max": 1,
      "min": 0,
      "orientation": "horizontal",
      "style": "IPY_MODEL_f5e743ed8db14bd694927f34726a957f",
      "value": 0
     }
    },
    "476f3fd011d54a03838dabaeb41aa43e": {
     "model_module": "@jupyter-widgets/base",
     "model_name": "LayoutModel",
     "state": {
      "_model_module": "@jupyter-widgets/base",
      "_model_module_version": "1.2.0",
      "_model_name": "LayoutModel",
      "_view_count": null,
      "_view_module": "@jupyter-widgets/base",
      "_view_module_version": "1.2.0",
      "_view_name": "LayoutView",
      "align_content": null,
      "align_items": null,
      "align_self": null,
      "border": null,
      "bottom": null,
      "display": null,
      "flex": null,
      "flex_flow": null,
      "grid_area": null,
      "grid_auto_columns": null,
      "grid_auto_flow": null,
      "grid_auto_rows": null,
      "grid_column": null,
      "grid_gap": null,
      "grid_row": null,
      "grid_template_areas": null,
      "grid_template_columns": null,
      "grid_template_rows": null,
      "height": null,
      "justify_content": null,
      "justify_items": null,
      "left": null,
      "margin": null,
      "max_height": null,
      "max_width": null,
      "min_height": null,
      "min_width": null,
      "object_fit": null,
      "object_position": null,
      "order": null,
      "overflow": null,
      "overflow_x": null,
      "overflow_y": null,
      "padding": null,
      "right": null,
      "top": null,
      "visibility": null,
      "width": null
     }
    },
    "4b0a1350110c4239bdc8cb3d55989c13": {
     "model_module": "@jupyter-widgets/base",
     "model_name": "LayoutModel",
     "state": {
      "_model_module": "@jupyter-widgets/base",
      "_model_module_version": "1.2.0",
      "_model_name": "LayoutModel",
      "_view_count": null,
      "_view_module": "@jupyter-widgets/base",
      "_view_module_version": "1.2.0",
      "_view_name": "LayoutView",
      "align_content": null,
      "align_items": null,
      "align_self": null,
      "border": null,
      "bottom": null,
      "display": null,
      "flex": null,
      "flex_flow": null,
      "grid_area": null,
      "grid_auto_columns": null,
      "grid_auto_flow": null,
      "grid_auto_rows": null,
      "grid_column": null,
      "grid_gap": null,
      "grid_row": null,
      "grid_template_areas": null,
      "grid_template_columns": null,
      "grid_template_rows": null,
      "height": null,
      "justify_content": null,
      "justify_items": null,
      "left": null,
      "margin": null,
      "max_height": null,
      "max_width": null,
      "min_height": null,
      "min_width": null,
      "object_fit": null,
      "object_position": null,
      "order": null,
      "overflow": null,
      "overflow_x": null,
      "overflow_y": null,
      "padding": null,
      "right": null,
      "top": null,
      "visibility": null,
      "width": null
     }
    },
    "60ffe0c275d34b62bc90fdebc0408094": {
     "model_module": "@jupyter-widgets/controls",
     "model_name": "HBoxModel",
     "state": {
      "_dom_classes": [],
      "_model_module": "@jupyter-widgets/controls",
      "_model_module_version": "1.5.0",
      "_model_name": "HBoxModel",
      "_view_count": null,
      "_view_module": "@jupyter-widgets/controls",
      "_view_module_version": "1.5.0",
      "_view_name": "HBoxView",
      "box_style": "",
      "children": [
       "IPY_MODEL_452c48eb90f848589f6fe29afbe9618b",
       "IPY_MODEL_b3c22eb1a3a54a76ad17c6b6c6ba7bba"
      ],
      "layout": "IPY_MODEL_39066952ef8e45a79c95bd9c9ecb2311"
     }
    },
    "687c86ceea2e4777ad41c591b61d43a3": {
     "model_module": "@jupyter-widgets/base",
     "model_name": "LayoutModel",
     "state": {
      "_model_module": "@jupyter-widgets/base",
      "_model_module_version": "1.2.0",
      "_model_name": "LayoutModel",
      "_view_count": null,
      "_view_module": "@jupyter-widgets/base",
      "_view_module_version": "1.2.0",
      "_view_name": "LayoutView",
      "align_content": null,
      "align_items": null,
      "align_self": null,
      "border": null,
      "bottom": null,
      "display": null,
      "flex": null,
      "flex_flow": null,
      "grid_area": null,
      "grid_auto_columns": null,
      "grid_auto_flow": null,
      "grid_auto_rows": null,
      "grid_column": null,
      "grid_gap": null,
      "grid_row": null,
      "grid_template_areas": null,
      "grid_template_columns": null,
      "grid_template_rows": null,
      "height": null,
      "justify_content": null,
      "justify_items": null,
      "left": null,
      "margin": null,
      "max_height": null,
      "max_width": null,
      "min_height": null,
      "min_width": null,
      "object_fit": null,
      "object_position": null,
      "order": null,
      "overflow": null,
      "overflow_x": null,
      "overflow_y": null,
      "padding": null,
      "right": null,
      "top": null,
      "visibility": null,
      "width": null
     }
    },
    "6b1a769c54c043d7ac75e2ca8f7cb647": {
     "model_module": "@jupyter-widgets/base",
     "model_name": "LayoutModel",
     "state": {
      "_model_module": "@jupyter-widgets/base",
      "_model_module_version": "1.2.0",
      "_model_name": "LayoutModel",
      "_view_count": null,
      "_view_module": "@jupyter-widgets/base",
      "_view_module_version": "1.2.0",
      "_view_name": "LayoutView",
      "align_content": null,
      "align_items": null,
      "align_self": null,
      "border": null,
      "bottom": null,
      "display": null,
      "flex": null,
      "flex_flow": null,
      "grid_area": null,
      "grid_auto_columns": null,
      "grid_auto_flow": null,
      "grid_auto_rows": null,
      "grid_column": null,
      "grid_gap": null,
      "grid_row": null,
      "grid_template_areas": null,
      "grid_template_columns": null,
      "grid_template_rows": null,
      "height": null,
      "justify_content": null,
      "justify_items": null,
      "left": null,
      "margin": null,
      "max_height": null,
      "max_width": null,
      "min_height": null,
      "min_width": null,
      "object_fit": null,
      "object_position": null,
      "order": null,
      "overflow": null,
      "overflow_x": null,
      "overflow_y": null,
      "padding": null,
      "right": null,
      "top": null,
      "visibility": null,
      "width": null
     }
    },
    "78e99186e88c45c5bd71b17305d6c34b": {
     "model_module": "@jupyter-widgets/controls",
     "model_name": "ProgressStyleModel",
     "state": {
      "_model_module": "@jupyter-widgets/controls",
      "_model_module_version": "1.5.0",
      "_model_name": "ProgressStyleModel",
      "_view_count": null,
      "_view_module": "@jupyter-widgets/base",
      "_view_module_version": "1.2.0",
      "_view_name": "StyleView",
      "bar_color": null,
      "description_width": "initial"
     }
    },
    "82a62789dd4a4f25b98dde9add7a383b": {
     "model_module": "@jupyter-widgets/base",
     "model_name": "LayoutModel",
     "state": {
      "_model_module": "@jupyter-widgets/base",
      "_model_module_version": "1.2.0",
      "_model_name": "LayoutModel",
      "_view_count": null,
      "_view_module": "@jupyter-widgets/base",
      "_view_module_version": "1.2.0",
      "_view_name": "LayoutView",
      "align_content": null,
      "align_items": null,
      "align_self": null,
      "border": null,
      "bottom": null,
      "display": null,
      "flex": null,
      "flex_flow": null,
      "grid_area": null,
      "grid_auto_columns": null,
      "grid_auto_flow": null,
      "grid_auto_rows": null,
      "grid_column": null,
      "grid_gap": null,
      "grid_row": null,
      "grid_template_areas": null,
      "grid_template_columns": null,
      "grid_template_rows": null,
      "height": null,
      "justify_content": null,
      "justify_items": null,
      "left": null,
      "margin": null,
      "max_height": null,
      "max_width": null,
      "min_height": null,
      "min_width": null,
      "object_fit": null,
      "object_position": null,
      "order": null,
      "overflow": null,
      "overflow_x": null,
      "overflow_y": null,
      "padding": null,
      "right": null,
      "top": null,
      "visibility": null,
      "width": null
     }
    },
    "85733c5b4c844c46a9c02b8092542f08": {
     "model_module": "@jupyter-widgets/controls",
     "model_name": "HTMLModel",
     "state": {
      "_dom_classes": [],
      "_model_module": "@jupyter-widgets/controls",
      "_model_module_version": "1.5.0",
      "_model_name": "HTMLModel",
      "_view_count": null,
      "_view_module": "@jupyter-widgets/controls",
      "_view_module_version": "1.5.0",
      "_view_name": "HTMLView",
      "description": "",
      "description_tooltip": null,
      "layout": "IPY_MODEL_c1232848a3154d66881bdd78b16c43e8",
      "placeholder": "​",
      "style": "IPY_MODEL_a5fd9c49d7d1414eb130baab7adc6f35",
      "value": " 0/? [00:00&lt;?, ?it/s]"
     }
    },
    "87631370cbfe4115888d7549b8e63b6b": {
     "model_module": "@jupyter-widgets/controls",
     "model_name": "HTMLModel",
     "state": {
      "_dom_classes": [],
      "_model_module": "@jupyter-widgets/controls",
      "_model_module_version": "1.5.0",
      "_model_name": "HTMLModel",
      "_view_count": null,
      "_view_module": "@jupyter-widgets/controls",
      "_view_module_version": "1.5.0",
      "_view_name": "HTMLView",
      "description": "",
      "description_tooltip": null,
      "layout": "IPY_MODEL_210a2a6ff4084e3581511b948a556309",
      "placeholder": "​",
      "style": "IPY_MODEL_bed7d822cc134437aa0823c08cff61a2",
      "value": " 4423680/? [00:19&lt;00:00, 1783321.33it/s]"
     }
    },
    "980a41707eb34ddfbbacb0d82bf6d088": {
     "model_module": "@jupyter-widgets/controls",
     "model_name": "FloatProgressModel",
     "state": {
      "_dom_classes": [],
      "_model_module": "@jupyter-widgets/controls",
      "_model_module_version": "1.5.0",
      "_model_name": "FloatProgressModel",
      "_view_count": null,
      "_view_module": "@jupyter-widgets/controls",
      "_view_module_version": "1.5.0",
      "_view_name": "ProgressView",
      "bar_style": "info",
      "description": "",
      "description_tooltip": null,
      "layout": "IPY_MODEL_82a62789dd4a4f25b98dde9add7a383b",
      "max": 1,
      "min": 0,
      "orientation": "horizontal",
      "style": "IPY_MODEL_ed511b58103f479bb173d6e8c226f864",
      "value": 0
     }
    },
    "9c853cbb8f624f9fbcd33569ef49bfe6": {
     "model_module": "@jupyter-widgets/controls",
     "model_name": "HBoxModel",
     "state": {
      "_dom_classes": [],
      "_model_module": "@jupyter-widgets/controls",
      "_model_module_version": "1.5.0",
      "_model_name": "HBoxModel",
      "_view_count": null,
      "_view_module": "@jupyter-widgets/controls",
      "_view_module_version": "1.5.0",
      "_view_name": "HBoxView",
      "box_style": "",
      "children": [
       "IPY_MODEL_fbaffa27d86f469eb57f278832ec87cc",
       "IPY_MODEL_87631370cbfe4115888d7549b8e63b6b"
      ],
      "layout": "IPY_MODEL_c7d26e5abac7418da36d59c0cbcc95d8"
     }
    },
    "a5fd9c49d7d1414eb130baab7adc6f35": {
     "model_module": "@jupyter-widgets/controls",
     "model_name": "DescriptionStyleModel",
     "state": {
      "_model_module": "@jupyter-widgets/controls",
      "_model_module_version": "1.5.0",
      "_model_name": "DescriptionStyleModel",
      "_view_count": null,
      "_view_module": "@jupyter-widgets/base",
      "_view_module_version": "1.2.0",
      "_view_name": "StyleView",
      "description_width": ""
     }
    },
    "a97ff6456c28468fa19a4b68f9feb70c": {
     "model_module": "@jupyter-widgets/base",
     "model_name": "LayoutModel",
     "state": {
      "_model_module": "@jupyter-widgets/base",
      "_model_module_version": "1.2.0",
      "_model_name": "LayoutModel",
      "_view_count": null,
      "_view_module": "@jupyter-widgets/base",
      "_view_module_version": "1.2.0",
      "_view_name": "LayoutView",
      "align_content": null,
      "align_items": null,
      "align_self": null,
      "border": null,
      "bottom": null,
      "display": null,
      "flex": null,
      "flex_flow": null,
      "grid_area": null,
      "grid_auto_columns": null,
      "grid_auto_flow": null,
      "grid_auto_rows": null,
      "grid_column": null,
      "grid_gap": null,
      "grid_row": null,
      "grid_template_areas": null,
      "grid_template_columns": null,
      "grid_template_rows": null,
      "height": null,
      "justify_content": null,
      "justify_items": null,
      "left": null,
      "margin": null,
      "max_height": null,
      "max_width": null,
      "min_height": null,
      "min_width": null,
      "object_fit": null,
      "object_position": null,
      "order": null,
      "overflow": null,
      "overflow_x": null,
      "overflow_y": null,
      "padding": null,
      "right": null,
      "top": null,
      "visibility": null,
      "width": null
     }
    },
    "aa802bef1ce24560bbeb2465c4119fb4": {
     "model_module": "@jupyter-widgets/controls",
     "model_name": "ProgressStyleModel",
     "state": {
      "_model_module": "@jupyter-widgets/controls",
      "_model_module_version": "1.5.0",
      "_model_name": "ProgressStyleModel",
      "_view_count": null,
      "_view_module": "@jupyter-widgets/base",
      "_view_module_version": "1.2.0",
      "_view_name": "StyleView",
      "bar_color": null,
      "description_width": "initial"
     }
    },
    "ab3d8da3a0704074822a419ddc92acc8": {
     "model_module": "@jupyter-widgets/controls",
     "model_name": "HBoxModel",
     "state": {
      "_dom_classes": [],
      "_model_module": "@jupyter-widgets/controls",
      "_model_module_version": "1.5.0",
      "_model_name": "HBoxModel",
      "_view_count": null,
      "_view_module": "@jupyter-widgets/controls",
      "_view_module_version": "1.5.0",
      "_view_name": "HBoxView",
      "box_style": "",
      "children": [
       "IPY_MODEL_980a41707eb34ddfbbacb0d82bf6d088",
       "IPY_MODEL_85733c5b4c844c46a9c02b8092542f08"
      ],
      "layout": "IPY_MODEL_476f3fd011d54a03838dabaeb41aa43e"
     }
    },
    "b3c22eb1a3a54a76ad17c6b6c6ba7bba": {
     "model_module": "@jupyter-widgets/controls",
     "model_name": "HTMLModel",
     "state": {
      "_dom_classes": [],
      "_model_module": "@jupyter-widgets/controls",
      "_model_module_version": "1.5.0",
      "_model_name": "HTMLModel",
      "_view_count": null,
      "_view_module": "@jupyter-widgets/controls",
      "_view_module_version": "1.5.0",
      "_view_name": "HTMLView",
      "description": "",
      "description_tooltip": null,
      "layout": "IPY_MODEL_687c86ceea2e4777ad41c591b61d43a3",
      "placeholder": "​",
      "style": "IPY_MODEL_1436110a534847889b857063c9e4b2c6",
      "value": " 0/? [00:00&lt;?, ?it/s]"
     }
    },
    "bc39e76748564a90bcd6c0731b1639cd": {
     "model_module": "@jupyter-widgets/controls",
     "model_name": "HBoxModel",
     "state": {
      "_dom_classes": [],
      "_model_module": "@jupyter-widgets/controls",
      "_model_module_version": "1.5.0",
      "_model_name": "HBoxModel",
      "_view_count": null,
      "_view_module": "@jupyter-widgets/controls",
      "_view_module_version": "1.5.0",
      "_view_name": "HBoxView",
      "box_style": "",
      "children": [
       "IPY_MODEL_eb803b40a7ba4eaf9f61d279d97d91ed",
       "IPY_MODEL_d78f88c0f1d14383acae657b276ebd9b"
      ],
      "layout": "IPY_MODEL_4b0a1350110c4239bdc8cb3d55989c13"
     }
    },
    "bed7d822cc134437aa0823c08cff61a2": {
     "model_module": "@jupyter-widgets/controls",
     "model_name": "DescriptionStyleModel",
     "state": {
      "_model_module": "@jupyter-widgets/controls",
      "_model_module_version": "1.5.0",
      "_model_name": "DescriptionStyleModel",
      "_view_count": null,
      "_view_module": "@jupyter-widgets/base",
      "_view_module_version": "1.2.0",
      "_view_name": "StyleView",
      "description_width": ""
     }
    },
    "c1232848a3154d66881bdd78b16c43e8": {
     "model_module": "@jupyter-widgets/base",
     "model_name": "LayoutModel",
     "state": {
      "_model_module": "@jupyter-widgets/base",
      "_model_module_version": "1.2.0",
      "_model_name": "LayoutModel",
      "_view_count": null,
      "_view_module": "@jupyter-widgets/base",
      "_view_module_version": "1.2.0",
      "_view_name": "LayoutView",
      "align_content": null,
      "align_items": null,
      "align_self": null,
      "border": null,
      "bottom": null,
      "display": null,
      "flex": null,
      "flex_flow": null,
      "grid_area": null,
      "grid_auto_columns": null,
      "grid_auto_flow": null,
      "grid_auto_rows": null,
      "grid_column": null,
      "grid_gap": null,
      "grid_row": null,
      "grid_template_areas": null,
      "grid_template_columns": null,
      "grid_template_rows": null,
      "height": null,
      "justify_content": null,
      "justify_items": null,
      "left": null,
      "margin": null,
      "max_height": null,
      "max_width": null,
      "min_height": null,
      "min_width": null,
      "object_fit": null,
      "object_position": null,
      "order": null,
      "overflow": null,
      "overflow_x": null,
      "overflow_y": null,
      "padding": null,
      "right": null,
      "top": null,
      "visibility": null,
      "width": null
     }
    },
    "c7d26e5abac7418da36d59c0cbcc95d8": {
     "model_module": "@jupyter-widgets/base",
     "model_name": "LayoutModel",
     "state": {
      "_model_module": "@jupyter-widgets/base",
      "_model_module_version": "1.2.0",
      "_model_name": "LayoutModel",
      "_view_count": null,
      "_view_module": "@jupyter-widgets/base",
      "_view_module_version": "1.2.0",
      "_view_name": "LayoutView",
      "align_content": null,
      "align_items": null,
      "align_self": null,
      "border": null,
      "bottom": null,
      "display": null,
      "flex": null,
      "flex_flow": null,
      "grid_area": null,
      "grid_auto_columns": null,
      "grid_auto_flow": null,
      "grid_auto_rows": null,
      "grid_column": null,
      "grid_gap": null,
      "grid_row": null,
      "grid_template_areas": null,
      "grid_template_columns": null,
      "grid_template_rows": null,
      "height": null,
      "justify_content": null,
      "justify_items": null,
      "left": null,
      "margin": null,
      "max_height": null,
      "max_width": null,
      "min_height": null,
      "min_width": null,
      "object_fit": null,
      "object_position": null,
      "order": null,
      "overflow": null,
      "overflow_x": null,
      "overflow_y": null,
      "padding": null,
      "right": null,
      "top": null,
      "visibility": null,
      "width": null
     }
    },
    "d775b48c731241f1b1d78da6da151e72": {
     "model_module": "@jupyter-widgets/controls",
     "model_name": "DescriptionStyleModel",
     "state": {
      "_model_module": "@jupyter-widgets/controls",
      "_model_module_version": "1.5.0",
      "_model_name": "DescriptionStyleModel",
      "_view_count": null,
      "_view_module": "@jupyter-widgets/base",
      "_view_module_version": "1.2.0",
      "_view_name": "StyleView",
      "description_width": ""
     }
    },
    "d78f88c0f1d14383acae657b276ebd9b": {
     "model_module": "@jupyter-widgets/controls",
     "model_name": "HTMLModel",
     "state": {
      "_dom_classes": [],
      "_model_module": "@jupyter-widgets/controls",
      "_model_module_version": "1.5.0",
      "_model_name": "HTMLModel",
      "_view_count": null,
      "_view_module": "@jupyter-widgets/controls",
      "_view_module_version": "1.5.0",
      "_view_name": "HTMLView",
      "description": "",
      "description_tooltip": null,
      "layout": "IPY_MODEL_6b1a769c54c043d7ac75e2ca8f7cb647",
      "placeholder": "​",
      "style": "IPY_MODEL_d775b48c731241f1b1d78da6da151e72",
      "value": " 26427392/? [00:20&lt;00:00, 319852.91it/s]"
     }
    },
    "eb803b40a7ba4eaf9f61d279d97d91ed": {
     "model_module": "@jupyter-widgets/controls",
     "model_name": "FloatProgressModel",
     "state": {
      "_dom_classes": [],
      "_model_module": "@jupyter-widgets/controls",
      "_model_module_version": "1.5.0",
      "_model_name": "FloatProgressModel",
      "_view_count": null,
      "_view_module": "@jupyter-widgets/controls",
      "_view_module_version": "1.5.0",
      "_view_name": "ProgressView",
      "bar_style": "info",
      "description": "",
      "description_tooltip": null,
      "layout": "IPY_MODEL_a97ff6456c28468fa19a4b68f9feb70c",
      "max": 1,
      "min": 0,
      "orientation": "horizontal",
      "style": "IPY_MODEL_aa802bef1ce24560bbeb2465c4119fb4",
      "value": 1
     }
    },
    "ed511b58103f479bb173d6e8c226f864": {
     "model_module": "@jupyter-widgets/controls",
     "model_name": "ProgressStyleModel",
     "state": {
      "_model_module": "@jupyter-widgets/controls",
      "_model_module_version": "1.5.0",
      "_model_name": "ProgressStyleModel",
      "_view_count": null,
      "_view_module": "@jupyter-widgets/base",
      "_view_module_version": "1.2.0",
      "_view_name": "StyleView",
      "bar_color": null,
      "description_width": "initial"
     }
    },
    "edbca8b5bdb44521af3139ab402a67a3": {
     "model_module": "@jupyter-widgets/base",
     "model_name": "LayoutModel",
     "state": {
      "_model_module": "@jupyter-widgets/base",
      "_model_module_version": "1.2.0",
      "_model_name": "LayoutModel",
      "_view_count": null,
      "_view_module": "@jupyter-widgets/base",
      "_view_module_version": "1.2.0",
      "_view_name": "LayoutView",
      "align_content": null,
      "align_items": null,
      "align_self": null,
      "border": null,
      "bottom": null,
      "display": null,
      "flex": null,
      "flex_flow": null,
      "grid_area": null,
      "grid_auto_columns": null,
      "grid_auto_flow": null,
      "grid_auto_rows": null,
      "grid_column": null,
      "grid_gap": null,
      "grid_row": null,
      "grid_template_areas": null,
      "grid_template_columns": null,
      "grid_template_rows": null,
      "height": null,
      "justify_content": null,
      "justify_items": null,
      "left": null,
      "margin": null,
      "max_height": null,
      "max_width": null,
      "min_height": null,
      "min_width": null,
      "object_fit": null,
      "object_position": null,
      "order": null,
      "overflow": null,
      "overflow_x": null,
      "overflow_y": null,
      "padding": null,
      "right": null,
      "top": null,
      "visibility": null,
      "width": null
     }
    },
    "f5e743ed8db14bd694927f34726a957f": {
     "model_module": "@jupyter-widgets/controls",
     "model_name": "ProgressStyleModel",
     "state": {
      "_model_module": "@jupyter-widgets/controls",
      "_model_module_version": "1.5.0",
      "_model_name": "ProgressStyleModel",
      "_view_count": null,
      "_view_module": "@jupyter-widgets/base",
      "_view_module_version": "1.2.0",
      "_view_name": "StyleView",
      "bar_color": null,
      "description_width": "initial"
     }
    },
    "fbaffa27d86f469eb57f278832ec87cc": {
     "model_module": "@jupyter-widgets/controls",
     "model_name": "FloatProgressModel",
     "state": {
      "_dom_classes": [],
      "_model_module": "@jupyter-widgets/controls",
      "_model_module_version": "1.5.0",
      "_model_name": "FloatProgressModel",
      "_view_count": null,
      "_view_module": "@jupyter-widgets/controls",
      "_view_module_version": "1.5.0",
      "_view_name": "ProgressView",
      "bar_style": "info",
      "description": "",
      "description_tooltip": null,
      "layout": "IPY_MODEL_edbca8b5bdb44521af3139ab402a67a3",
      "max": 1,
      "min": 0,
      "orientation": "horizontal",
      "style": "IPY_MODEL_78e99186e88c45c5bd71b17305d6c34b",
      "value": 1
     }
    }
   }
  }
 },
 "nbformat": 4,
 "nbformat_minor": 1
}
